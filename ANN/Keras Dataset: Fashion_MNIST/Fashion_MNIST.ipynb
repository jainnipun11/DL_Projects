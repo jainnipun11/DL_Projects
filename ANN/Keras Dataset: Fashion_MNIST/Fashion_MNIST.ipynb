{
 "cells": [
  {
   "cell_type": "code",
   "execution_count": 57,
   "id": "159a4639",
   "metadata": {},
   "outputs": [],
   "source": [
    "import numpy as np\n",
    "import pandas as pd\n",
    "import matplotlib as mpl\n",
    "import matplotlib.pyplot as plt\n",
    "import seaborn as sns"
   ]
  },
  {
   "cell_type": "code",
   "execution_count": 58,
   "id": "80d24eaf",
   "metadata": {},
   "outputs": [],
   "source": [
    "import tensorflow as tf\n",
    "from tensorflow import keras"
   ]
  },
  {
   "cell_type": "code",
   "execution_count": 59,
   "id": "4524be90",
   "metadata": {},
   "outputs": [],
   "source": [
    "mnist=keras.datasets.mnist"
   ]
  },
  {
   "cell_type": "code",
   "execution_count": 60,
   "id": "621a3452",
   "metadata": {},
   "outputs": [],
   "source": [
    "(X_train_full,Y_train_full),(X_test,Y_test)=mnist.load_data()"
   ]
  },
  {
   "cell_type": "code",
   "execution_count": 61,
   "id": "a780d87d",
   "metadata": {},
   "outputs": [
    {
     "data": {
      "text/plain": [
       "<matplotlib.image.AxesImage at 0x2496cb1f400>"
      ]
     },
     "execution_count": 61,
     "metadata": {},
     "output_type": "execute_result"
    },
    {
     "data": {
      "image/png": "[encoded data removed]",
      "text/plain": [
       "<Figure size 432x288 with 1 Axes>"
      ]
     },
     "metadata": {
      "needs_background": "light"
     },
     "output_type": "display_data"
    }
   ],
   "source": [
    "plt.imshow(X_train_full[6])"
   ]
  },
  {
   "cell_type": "code",
   "execution_count": 62,
   "id": "1ab1b4b4",
   "metadata": {},
   "outputs": [],
   "source": [
    "X_train_n=X_train_full/255"
   ]
  },
  {
   "cell_type": "code",
   "execution_count": 63,
   "id": "be733fa1",
   "metadata": {},
   "outputs": [],
   "source": [
    "X_test_n=X_test/255"
   ]
  },
  {
   "cell_type": "code",
   "execution_count": 64,
   "id": "ddd2d879",
   "metadata": {},
   "outputs": [],
   "source": [
    "X_valid,X_train=X_train_n[0:6000],X_train_n[6000:]\n",
    "Y_valid,Y_train=Y_train_full[0:6000],Y_train_full[6000:]"
   ]
  },
  {
   "cell_type": "code",
   "execution_count": 65,
   "id": "dbffd206",
   "metadata": {},
   "outputs": [],
   "source": [
    "X_test=X_test_n"
   ]
  },
  {
   "cell_type": "code",
   "execution_count": 66,
   "id": "e6b44689",
   "metadata": {},
   "outputs": [],
   "source": [
    "classes_names=['Zero','One','Two','Three','Four','Five','Six','Seven','Eight','Nine']"
   ]
  },
  {
   "cell_type": "code",
   "execution_count": 67,
   "id": "3fd4d1c6",
   "metadata": {},
   "outputs": [],
   "source": [
    "np.random.seed(42)\n",
    "tf.random.set_seed(42)"
   ]
  },
  {
   "cell_type": "code",
   "execution_count": 68,
   "id": "7827fe05",
   "metadata": {},
   "outputs": [],
   "source": [
    "model=keras.models.Sequential()\n",
    "model.add(keras.layers.Flatten(input_shape=[28,28]))\n",
    "model.add(keras.layers.Dense(200,activation='relu'))\n",
    "model.add(keras.layers.Dense(100,activation='relu'))\n",
    "model.add(keras.layers.Dense(10,activation='softmax'))"
   ]
  },
  {
   "cell_type": "code",
   "execution_count": 69,
   "id": "6e7d302c",
   "metadata": {},
   "outputs": [
    {
     "name": "stdout",
     "output_type": "stream",
     "text": [
      "Model: \"sequential_2\"\n",
      "_________________________________________________________________\n",
      " Layer (type)                Output Shape              Param #   \n",
      "=================================================================\n",
      " flatten_2 (Flatten)         (None, 784)               0         \n",
      "                                                                 \n",
      " dense_6 (Dense)             (None, 200)               157000    \n",
      "                                                                 \n",
      " dense_7 (Dense)             (None, 100)               20100     \n",
      "                                                                 \n",
      " dense_8 (Dense)             (None, 10)                1010      \n",
      "                                                                 \n",
      "=================================================================\n",
      "Total params: 178,110\n",
      "Trainable params: 178,110\n",
      "Non-trainable params: 0\n",
      "_________________________________________________________________\n"
     ]
    }
   ],
   "source": [
    "model.summary()"
   ]
  },
  {
   "cell_type": "code",
   "execution_count": 70,
   "id": "a043e7b6",
   "metadata": {},
   "outputs": [],
   "source": [
    "from keras.utils.vis_utils import plot_model"
   ]
  },
  {
   "cell_type": "code",
   "execution_count": 71,
   "id": "ef8ab8d4",
   "metadata": {},
   "outputs": [
    {
     "name": "stdout",
     "output_type": "stream",
     "text": [
      "('You must install pydot (`pip install pydot`) and install graphviz (see instructions at https://graphviz.gitlab.io/download/) ', 'for plot_model/model_to_dot to work.')\n"
     ]
    }
   ],
   "source": [
    "import pydot\n",
    "keras.utils.plot_model(model)"
   ]
  },
  {
   "cell_type": "code",
   "execution_count": 72,
   "id": "ed1660bf",
   "metadata": {},
   "outputs": [],
   "source": [
    "weights,biases=model.layers[1].get_weights()"
   ]
  },
  {
   "cell_type": "code",
   "execution_count": 73,
   "id": "d609338d",
   "metadata": {},
   "outputs": [
    {
     "data": {
      "text/plain": [
       "array([[ 0.02570029, -0.00921319, -0.02297589, ...,  0.03759523,\n",
       "         0.01990343, -0.00419658],\n",
       "       [ 0.0493257 ,  0.07532704,  0.04591972, ...,  0.01272719,\n",
       "         0.07017377,  0.06893378],\n",
       "       [-0.00902112,  0.0490617 ,  0.01508749, ...,  0.00632862,\n",
       "        -0.02900814, -0.04371899],\n",
       "       ...,\n",
       "       [ 0.06044598,  0.02830634,  0.04788385, ..., -0.02156743,\n",
       "        -0.06206664, -0.06688078],\n",
       "       [ 0.03822813,  0.07278952,  0.02177001, ..., -0.04696669,\n",
       "        -0.04292265,  0.0316055 ],\n",
       "       [-0.01534326, -0.03178874, -0.04308994, ...,  0.00643031,\n",
       "         0.02572545, -0.03443564]], dtype=float32)"
      ]
     },
     "execution_count": 73,
     "metadata": {},
     "output_type": "execute_result"
    }
   ],
   "source": [
    "weights"
   ]
  },
  {
   "cell_type": "code",
   "execution_count": 74,
   "id": "b8f5f621",
   "metadata": {},
   "outputs": [],
   "source": [
    "model.compile(loss='sparse_categorical_crossentropy',optimizer=\"sgd\",metrics=['accuracy'])"
   ]
  },
  {
   "cell_type": "code",
   "execution_count": 75,
   "id": "cbfb5699",
   "metadata": {},
   "outputs": [
    {
     "name": "stdout",
     "output_type": "stream",
     "text": [
      "Epoch 1/60\n",
      "1688/1688 [==============================] - 4s 2ms/step - loss: 0.6607 - accuracy: 0.8267 - val_loss: 0.3216 - val_accuracy: 0.9125\n",
      "Epoch 2/60\n",
      "1688/1688 [==============================] - 4s 2ms/step - loss: 0.3006 - accuracy: 0.9141 - val_loss: 0.2585 - val_accuracy: 0.9283\n",
      "Epoch 3/60\n",
      "1688/1688 [==============================] - 4s 2ms/step - loss: 0.2488 - accuracy: 0.9293 - val_loss: 0.2254 - val_accuracy: 0.9385\n",
      "Epoch 4/60\n",
      "1688/1688 [==============================] - 3s 2ms/step - loss: 0.2151 - accuracy: 0.9390 - val_loss: 0.1961 - val_accuracy: 0.9442\n",
      "Epoch 5/60\n",
      "1688/1688 [==============================] - 3s 2ms/step - loss: 0.1893 - accuracy: 0.9462 - val_loss: 0.1790 - val_accuracy: 0.9485\n",
      "Epoch 6/60\n",
      "1688/1688 [==============================] - 3s 2ms/step - loss: 0.1690 - accuracy: 0.9516 - val_loss: 0.1637 - val_accuracy: 0.9523\n",
      "Epoch 7/60\n",
      "1688/1688 [==============================] - 3s 2ms/step - loss: 0.1521 - accuracy: 0.9569 - val_loss: 0.1483 - val_accuracy: 0.9587\n",
      "Epoch 8/60\n",
      "1688/1688 [==============================] - 4s 2ms/step - loss: 0.1378 - accuracy: 0.9611 - val_loss: 0.1416 - val_accuracy: 0.9607\n",
      "Epoch 9/60\n",
      "1688/1688 [==============================] - 3s 2ms/step - loss: 0.1260 - accuracy: 0.9641 - val_loss: 0.1316 - val_accuracy: 0.9647\n",
      "Epoch 10/60\n",
      "1688/1688 [==============================] - 4s 2ms/step - loss: 0.1157 - accuracy: 0.9673 - val_loss: 0.1272 - val_accuracy: 0.9637\n",
      "Epoch 11/60\n",
      "1688/1688 [==============================] - 4s 2ms/step - loss: 0.1066 - accuracy: 0.9699 - val_loss: 0.1158 - val_accuracy: 0.9675\n",
      "Epoch 12/60\n",
      "1688/1688 [==============================] - 3s 2ms/step - loss: 0.0991 - accuracy: 0.9722 - val_loss: 0.1119 - val_accuracy: 0.9700\n",
      "Epoch 13/60\n",
      "1688/1688 [==============================] - 3s 2ms/step - loss: 0.0917 - accuracy: 0.9746 - val_loss: 0.1058 - val_accuracy: 0.9708\n",
      "Epoch 14/60\n",
      "1688/1688 [==============================] - 3s 2ms/step - loss: 0.0857 - accuracy: 0.9765 - val_loss: 0.1006 - val_accuracy: 0.9720\n",
      "Epoch 15/60\n",
      "1688/1688 [==============================] - 3s 2ms/step - loss: 0.0802 - accuracy: 0.9776 - val_loss: 0.0990 - val_accuracy: 0.9720\n",
      "Epoch 16/60\n",
      "1688/1688 [==============================] - 3s 2ms/step - loss: 0.0752 - accuracy: 0.9794 - val_loss: 0.0945 - val_accuracy: 0.9728\n",
      "Epoch 17/60\n",
      "1688/1688 [==============================] - 3s 2ms/step - loss: 0.0707 - accuracy: 0.9809 - val_loss: 0.0935 - val_accuracy: 0.9728\n",
      "Epoch 18/60\n",
      "1688/1688 [==============================] - 3s 2ms/step - loss: 0.0659 - accuracy: 0.9819 - val_loss: 0.0892 - val_accuracy: 0.9750oss: 0.0644 -  - E\n",
      "Epoch 19/60\n",
      "1688/1688 [==============================] - 3s 2ms/step - loss: 0.0624 - accuracy: 0.9830 - val_loss: 0.0894 - val_accuracy: 0.9737\n",
      "Epoch 20/60\n",
      "1688/1688 [==============================] - 4s 2ms/step - loss: 0.0587 - accuracy: 0.9841 - val_loss: 0.0873 - val_accuracy: 0.9752\n",
      "Epoch 21/60\n",
      "1688/1688 [==============================] - 3s 2ms/step - loss: 0.0555 - accuracy: 0.9852 - val_loss: 0.0865 - val_accuracy: 0.9757\n",
      "Epoch 22/60\n",
      "1688/1688 [==============================] - 4s 2ms/step - loss: 0.0525 - accuracy: 0.9859 - val_loss: 0.0837 - val_accuracy: 0.9762\n",
      "Epoch 23/60\n",
      "1688/1688 [==============================] - 4s 2ms/step - loss: 0.0496 - accuracy: 0.9865 - val_loss: 0.0830 - val_accuracy: 0.9765\n",
      "Epoch 24/60\n",
      "1688/1688 [==============================] - 4s 2ms/step - loss: 0.0468 - accuracy: 0.9872 - val_loss: 0.0824 - val_accuracy: 0.9758\n",
      "Epoch 25/60\n",
      "1688/1688 [==============================] - 3s 2ms/step - loss: 0.0443 - accuracy: 0.9884 - val_loss: 0.0833 - val_accuracy: 0.9745\n",
      "Epoch 26/60\n",
      "1688/1688 [==============================] - 3s 2ms/step - loss: 0.0420 - accuracy: 0.9888 - val_loss: 0.0811 - val_accuracy: 0.9765\n",
      "Epoch 27/60\n",
      "1688/1688 [==============================] - 3s 2ms/step - loss: 0.0398 - accuracy: 0.9893 - val_loss: 0.0772 - val_accuracy: 0.9773\n",
      "Epoch 28/60\n",
      "1688/1688 [==============================] - 3s 2ms/step - loss: 0.0378 - accuracy: 0.9901 - val_loss: 0.0772 - val_accuracy: 0.9775\n",
      "Epoch 29/60\n",
      "1688/1688 [==============================] - 3s 2ms/step - loss: 0.0358 - accuracy: 0.9906 - val_loss: 0.0761 - val_accuracy: 0.9782\n",
      "Epoch 30/60\n",
      "1688/1688 [==============================] - 4s 2ms/step - loss: 0.0339 - accuracy: 0.9915 - val_loss: 0.0787 - val_accuracy: 0.9768\n",
      "Epoch 31/60\n",
      "1688/1688 [==============================] - 3s 2ms/step - loss: 0.0322 - accuracy: 0.9920 - val_loss: 0.0754 - val_accuracy: 0.9775\n",
      "Epoch 32/60\n",
      "1688/1688 [==============================] - 4s 2ms/step - loss: 0.0304 - accuracy: 0.9926 - val_loss: 0.0773 - val_accuracy: 0.9778\n",
      "Epoch 33/60\n",
      "1688/1688 [==============================] - 3s 2ms/step - loss: 0.0290 - accuracy: 0.9931 - val_loss: 0.0766 - val_accuracy: 0.9782\n",
      "Epoch 34/60\n",
      "1688/1688 [==============================] - 3s 2ms/step - loss: 0.0274 - accuracy: 0.9937 - val_loss: 0.0764 - val_accuracy: 0.9782\n",
      "Epoch 35/60\n",
      "1688/1688 [==============================] - 3s 2ms/step - loss: 0.0260 - accuracy: 0.9941 - val_loss: 0.0749 - val_accuracy: 0.9783\n",
      "Epoch 36/60\n",
      "1688/1688 [==============================] - 3s 2ms/step - loss: 0.0247 - accuracy: 0.9946 - val_loss: 0.0800 - val_accuracy: 0.9767\n",
      "Epoch 37/60\n",
      "1688/1688 [==============================] - 4s 2ms/step - loss: 0.0237 - accuracy: 0.9944 - val_loss: 0.0756 - val_accuracy: 0.9773\n",
      "Epoch 38/60\n",
      "1688/1688 [==============================] - 4s 2ms/step - loss: 0.0223 - accuracy: 0.9954 - val_loss: 0.0761 - val_accuracy: 0.9780\n",
      "Epoch 39/60\n",
      "1688/1688 [==============================] - 3s 2ms/step - loss: 0.0212 - accuracy: 0.9959 - val_loss: 0.0752 - val_accuracy: 0.9782\n",
      "Epoch 40/60\n",
      "1688/1688 [==============================] - 4s 2ms/step - loss: 0.0202 - accuracy: 0.9962 - val_loss: 0.0758 - val_accuracy: 0.9778\n",
      "Epoch 41/60\n",
      "1688/1688 [==============================] - 3s 2ms/step - loss: 0.0192 - accuracy: 0.9968 - val_loss: 0.0757 - val_accuracy: 0.9778\n",
      "Epoch 42/60\n",
      "1688/1688 [==============================] - 3s 2ms/step - loss: 0.0183 - accuracy: 0.9968 - val_loss: 0.0772 - val_accuracy: 0.9772\n",
      "Epoch 43/60\n",
      "1688/1688 [==============================] - 3s 2ms/step - loss: 0.0174 - accuracy: 0.9971 - val_loss: 0.0822 - val_accuracy: 0.9765\n",
      "Epoch 44/60\n",
      "1688/1688 [==============================] - 3s 2ms/step - loss: 0.0166 - accuracy: 0.9972 - val_loss: 0.0758 - val_accuracy: 0.9790\n",
      "Epoch 45/60\n",
      "1688/1688 [==============================] - 4s 2ms/step - loss: 0.0157 - accuracy: 0.9976 - val_loss: 0.0759 - val_accuracy: 0.9780\n",
      "Epoch 46/60\n",
      "1688/1688 [==============================] - 3s 2ms/step - loss: 0.0151 - accuracy: 0.9979 - val_loss: 0.0763 - val_accuracy: 0.9777\n",
      "Epoch 47/60\n",
      "1688/1688 [==============================] - 3s 2ms/step - loss: 0.0143 - accuracy: 0.9980 - val_loss: 0.0772 - val_accuracy: 0.9775\n",
      "Epoch 48/60\n",
      "1688/1688 [==============================] - 3s 2ms/step - loss: 0.0137 - accuracy: 0.9983 - val_loss: 0.0772 - val_accuracy: 0.9767\n",
      "Epoch 49/60\n",
      "1688/1688 [==============================] - 3s 2ms/step - loss: 0.0131 - accuracy: 0.9982 - val_loss: 0.0779 - val_accuracy: 0.9770\n",
      "Epoch 50/60\n",
      "1688/1688 [==============================] - 3s 2ms/step - loss: 0.0124 - accuracy: 0.9986 - val_loss: 0.0795 - val_accuracy: 0.9772\n",
      "Epoch 51/60\n",
      "1688/1688 [==============================] - 3s 2ms/step - loss: 0.0120 - accuracy: 0.9985 - val_loss: 0.0772 - val_accuracy: 0.9778\n",
      "Epoch 52/60\n",
      "1688/1688 [==============================] - 3s 2ms/step - loss: 0.0114 - accuracy: 0.9987 - val_loss: 0.0766 - val_accuracy: 0.9778\n",
      "Epoch 53/60\n",
      "1688/1688 [==============================] - 3s 2ms/step - loss: 0.0109 - accuracy: 0.9988 - val_loss: 0.0782 - val_accuracy: 0.9777\n",
      "Epoch 54/60\n",
      "1688/1688 [==============================] - 4s 2ms/step - loss: 0.0105 - accuracy: 0.9989 - val_loss: 0.0766 - val_accuracy: 0.9788\n",
      "Epoch 55/60\n",
      "1688/1688 [==============================] - 3s 2ms/step - loss: 0.0100 - accuracy: 0.9991 - val_loss: 0.0785 - val_accuracy: 0.9780\n",
      "Epoch 56/60\n",
      "1688/1688 [==============================] - 3s 2ms/step - loss: 0.0095 - accuracy: 0.9991 - val_loss: 0.0792 - val_accuracy: 0.9775\n",
      "Epoch 57/60\n"
     ]
    },
    {
     "name": "stdout",
     "output_type": "stream",
     "text": [
      "1688/1688 [==============================] - 3s 2ms/step - loss: 0.0091 - accuracy: 0.9993 - val_loss: 0.0799 - val_accuracy: 0.9773\n",
      "Epoch 58/60\n",
      "1688/1688 [==============================] - 4s 2ms/step - loss: 0.0088 - accuracy: 0.9992 - val_loss: 0.0778 - val_accuracy: 0.9778\n",
      "Epoch 59/60\n",
      "1688/1688 [==============================] - 3s 2ms/step - loss: 0.0085 - accuracy: 0.9993 - val_loss: 0.0803 - val_accuracy: 0.9775\n",
      "Epoch 60/60\n",
      "1688/1688 [==============================] - 3s 2ms/step - loss: 0.0081 - accuracy: 0.9993 - val_loss: 0.0811 - val_accuracy: 0.9772\n"
     ]
    }
   ],
   "source": [
    "model_history=model.fit(X_train,Y_train,epochs=60,validation_data=(X_valid,Y_valid))"
   ]
  },
  {
   "cell_type": "code",
   "execution_count": null,
   "id": "3bf691e3",
   "metadata": {},
   "outputs": [],
   "source": []
  },
  {
   "cell_type": "code",
   "execution_count": 76,
   "id": "b88da8c1",
   "metadata": {},
   "outputs": [
    {
     "data": {
      "text/plain": [
       "{'loss': [0.6606810092926025,\n",
       "  0.30064913630485535,\n",
       "  0.24879589676856995,\n",
       "  0.21510879695415497,\n",
       "  0.18928807973861694,\n",
       "  0.1689998060464859,\n",
       "  0.1521306037902832,\n",
       "  0.13783971965312958,\n",
       "  0.1260279268026352,\n",
       "  0.11572735756635666,\n",
       "  0.10664938390254974,\n",
       "  0.09910377115011215,\n",
       "  0.09173990786075592,\n",
       "  0.08569195866584778,\n",
       "  0.08016625046730042,\n",
       "  0.07516533881425858,\n",
       "  0.07068926841020584,\n",
       "  0.06591711938381195,\n",
       "  0.06243583932518959,\n",
       "  0.05871589854359627,\n",
       "  0.05550643056631088,\n",
       "  0.05245979502797127,\n",
       "  0.049564287066459656,\n",
       "  0.04680578038096428,\n",
       "  0.044284187257289886,\n",
       "  0.04203980788588524,\n",
       "  0.039826177060604095,\n",
       "  0.03780299052596092,\n",
       "  0.035808488726615906,\n",
       "  0.03386751934885979,\n",
       "  0.032171692699193954,\n",
       "  0.03038603998720646,\n",
       "  0.02896624058485031,\n",
       "  0.02739020250737667,\n",
       "  0.026011168956756592,\n",
       "  0.0246533565223217,\n",
       "  0.023709379136562347,\n",
       "  0.022333387285470963,\n",
       "  0.0212078969925642,\n",
       "  0.02022606134414673,\n",
       "  0.01915363222360611,\n",
       "  0.01828976906836033,\n",
       "  0.017407720908522606,\n",
       "  0.01663745753467083,\n",
       "  0.01574045978486538,\n",
       "  0.01506645604968071,\n",
       "  0.014323914423584938,\n",
       "  0.013703065924346447,\n",
       "  0.01305354293435812,\n",
       "  0.012434176169335842,\n",
       "  0.011963380500674248,\n",
       "  0.011381697840988636,\n",
       "  0.010934978723526001,\n",
       "  0.010497969575226307,\n",
       "  0.010020113550126553,\n",
       "  0.009514689445495605,\n",
       "  0.009107060730457306,\n",
       "  0.008827358484268188,\n",
       "  0.008462965488433838,\n",
       "  0.008083297871053219],\n",
       " 'accuracy': [0.8267222046852112,\n",
       "  0.9140740633010864,\n",
       "  0.929277777671814,\n",
       "  0.9389814734458923,\n",
       "  0.9461851716041565,\n",
       "  0.9516481757164001,\n",
       "  0.956944465637207,\n",
       "  0.9611296057701111,\n",
       "  0.9640740752220154,\n",
       "  0.9673148393630981,\n",
       "  0.9698518514633179,\n",
       "  0.9722037315368652,\n",
       "  0.974574089050293,\n",
       "  0.9765370488166809,\n",
       "  0.977648138999939,\n",
       "  0.9793703556060791,\n",
       "  0.9809073805809021,\n",
       "  0.9819444417953491,\n",
       "  0.9829815030097961,\n",
       "  0.984074056148529,\n",
       "  0.9851852059364319,\n",
       "  0.9858518242835999,\n",
       "  0.9864629507064819,\n",
       "  0.9872037172317505,\n",
       "  0.9884259104728699,\n",
       "  0.988777756690979,\n",
       "  0.9892592430114746,\n",
       "  0.9901296496391296,\n",
       "  0.9906296133995056,\n",
       "  0.9914814829826355,\n",
       "  0.9919629693031311,\n",
       "  0.9926296472549438,\n",
       "  0.993148148059845,\n",
       "  0.9937222003936768,\n",
       "  0.9940555691719055,\n",
       "  0.9946296215057373,\n",
       "  0.9943888783454895,\n",
       "  0.9953888654708862,\n",
       "  0.9958518743515015,\n",
       "  0.9961851835250854,\n",
       "  0.9967777729034424,\n",
       "  0.9968147873878479,\n",
       "  0.9970740675926208,\n",
       "  0.9972407221794128,\n",
       "  0.9976296424865723,\n",
       "  0.9978888630867004,\n",
       "  0.9980185031890869,\n",
       "  0.9983333349227905,\n",
       "  0.998203694820404,\n",
       "  0.9985926151275635,\n",
       "  0.9985185265541077,\n",
       "  0.9987037181854248,\n",
       "  0.9988148212432861,\n",
       "  0.9988889098167419,\n",
       "  0.9990555644035339,\n",
       "  0.9991296529769897,\n",
       "  0.9992592334747314,\n",
       "  0.9991666674613953,\n",
       "  0.9993148446083069,\n",
       "  0.9993333220481873],\n",
       " 'val_loss': [0.32164785265922546,\n",
       "  0.2585417926311493,\n",
       "  0.22539637982845306,\n",
       "  0.19609937071800232,\n",
       "  0.17897820472717285,\n",
       "  0.1637406349182129,\n",
       "  0.14828941226005554,\n",
       "  0.14164015650749207,\n",
       "  0.1315867155790329,\n",
       "  0.12716718018054962,\n",
       "  0.11581220477819443,\n",
       "  0.1119169294834137,\n",
       "  0.1057639941573143,\n",
       "  0.10058482736349106,\n",
       "  0.09900704771280289,\n",
       "  0.09447479993104935,\n",
       "  0.09350264817476273,\n",
       "  0.08923496305942535,\n",
       "  0.0894000455737114,\n",
       "  0.08733198046684265,\n",
       "  0.08648625761270523,\n",
       "  0.0836854875087738,\n",
       "  0.08298105001449585,\n",
       "  0.08242593705654144,\n",
       "  0.08332660049200058,\n",
       "  0.08113998174667358,\n",
       "  0.07720674574375153,\n",
       "  0.07724205404520035,\n",
       "  0.07607746124267578,\n",
       "  0.07870505005121231,\n",
       "  0.07541616261005402,\n",
       "  0.07726292312145233,\n",
       "  0.0766235738992691,\n",
       "  0.07642331719398499,\n",
       "  0.0749208927154541,\n",
       "  0.08002762496471405,\n",
       "  0.0756441131234169,\n",
       "  0.07608851045370102,\n",
       "  0.07522086799144745,\n",
       "  0.07581663876771927,\n",
       "  0.07565563172101974,\n",
       "  0.07717929780483246,\n",
       "  0.08221189677715302,\n",
       "  0.07582414150238037,\n",
       "  0.07586383819580078,\n",
       "  0.07631301134824753,\n",
       "  0.07715444266796112,\n",
       "  0.07716725021600723,\n",
       "  0.0778927430510521,\n",
       "  0.07948039472103119,\n",
       "  0.07718300819396973,\n",
       "  0.0765729770064354,\n",
       "  0.07817955315113068,\n",
       "  0.07660773396492004,\n",
       "  0.07847568392753601,\n",
       "  0.07919856160879135,\n",
       "  0.07985328137874603,\n",
       "  0.07778864353895187,\n",
       "  0.08025344461202621,\n",
       "  0.08108294755220413],\n",
       " 'val_accuracy': [0.9125000238418579,\n",
       "  0.9283333420753479,\n",
       "  0.9384999871253967,\n",
       "  0.9441666603088379,\n",
       "  0.9484999775886536,\n",
       "  0.9523333311080933,\n",
       "  0.9586666822433472,\n",
       "  0.9606666564941406,\n",
       "  0.9646666646003723,\n",
       "  0.9636666774749756,\n",
       "  0.9674999713897705,\n",
       "  0.9700000286102295,\n",
       "  0.9708333611488342,\n",
       "  0.972000002861023,\n",
       "  0.972000002861023,\n",
       "  0.9728333353996277,\n",
       "  0.9728333353996277,\n",
       "  0.9750000238418579,\n",
       "  0.9736666679382324,\n",
       "  0.9751666784286499,\n",
       "  0.9756666421890259,\n",
       "  0.9761666655540466,\n",
       "  0.9764999747276306,\n",
       "  0.9758333563804626,\n",
       "  0.9745000004768372,\n",
       "  0.9764999747276306,\n",
       "  0.9773333072662354,\n",
       "  0.9775000214576721,\n",
       "  0.9781666398048401,\n",
       "  0.9768333435058594,\n",
       "  0.9775000214576721,\n",
       "  0.9778333306312561,\n",
       "  0.9781666398048401,\n",
       "  0.9781666398048401,\n",
       "  0.9783333539962769,\n",
       "  0.9766666889190674,\n",
       "  0.9773333072662354,\n",
       "  0.9779999852180481,\n",
       "  0.9781666398048401,\n",
       "  0.9778333306312561,\n",
       "  0.9778333306312561,\n",
       "  0.9771666526794434,\n",
       "  0.9764999747276306,\n",
       "  0.9789999723434448,\n",
       "  0.9779999852180481,\n",
       "  0.9776666760444641,\n",
       "  0.9775000214576721,\n",
       "  0.9766666889190674,\n",
       "  0.9769999980926514,\n",
       "  0.9771666526794434,\n",
       "  0.9778333306312561,\n",
       "  0.9778333306312561,\n",
       "  0.9776666760444641,\n",
       "  0.9788333177566528,\n",
       "  0.9779999852180481,\n",
       "  0.9775000214576721,\n",
       "  0.9773333072662354,\n",
       "  0.9778333306312561,\n",
       "  0.9775000214576721,\n",
       "  0.9771666526794434]}"
      ]
     },
     "execution_count": 76,
     "metadata": {},
     "output_type": "execute_result"
    }
   ],
   "source": [
    "model_history.history"
   ]
  },
  {
   "cell_type": "code",
   "execution_count": 77,
   "id": "5c7aaa98",
   "metadata": {},
   "outputs": [
    {
     "data": {
      "image/png": "[encoded data removed]",
      "text/plain": [
       "<Figure size 576x360 with 1 Axes>"
      ]
     },
     "metadata": {
      "needs_background": "light"
     },
     "output_type": "display_data"
    }
   ],
   "source": [
    "pd.DataFrame(model_history.history).plot(figsize=(8,5))\n",
    "plt.grid(True)\n",
    "plt.gca().set_ylim(0,1)  #To set y-axis between 0 and 1\n",
    "plt.show()"
   ]
  },
  {
   "cell_type": "code",
   "execution_count": 79,
   "id": "56cb5fda",
   "metadata": {},
   "outputs": [
    {
     "name": "stdout",
     "output_type": "stream",
     "text": [
      "313/313 [==============================] - 1s 2ms/step - loss: 0.0740 - accuracy: 0.9795\n"
     ]
    },
    {
     "data": {
      "text/plain": [
       "[0.07396024465560913, 0.9794999957084656]"
      ]
     },
     "execution_count": 79,
     "metadata": {},
     "output_type": "execute_result"
    }
   ],
   "source": [
    "model.evaluate(X_test,Y_test)"
   ]
  },
  {
   "cell_type": "code",
   "execution_count": 80,
   "id": "455188bb",
   "metadata": {},
   "outputs": [],
   "source": [
    "X_new=X_test[:5]"
   ]
  },
  {
   "cell_type": "code",
   "execution_count": 81,
   "id": "2d0142ba",
   "metadata": {},
   "outputs": [],
   "source": [
    "y_proba=model.predict(X_new)"
   ]
  },
  {
   "cell_type": "code",
   "execution_count": 82,
   "id": "d35e3bd6",
   "metadata": {},
   "outputs": [
    {
     "data": {
      "text/plain": [
       "array([[0., 0., 0., 0., 0., 0., 0., 1., 0., 0.],\n",
       "       [0., 0., 1., 0., 0., 0., 0., 0., 0., 0.],\n",
       "       [0., 1., 0., 0., 0., 0., 0., 0., 0., 0.],\n",
       "       [1., 0., 0., 0., 0., 0., 0., 0., 0., 0.],\n",
       "       [0., 0., 0., 0., 1., 0., 0., 0., 0., 0.]], dtype=float32)"
      ]
     },
     "execution_count": 82,
     "metadata": {},
     "output_type": "execute_result"
    }
   ],
   "source": [
    "y_proba.round(2)  #2 signifies the number of decimel places we want our answer to be displayed."
   ]
  },
  {
   "cell_type": "code",
   "execution_count": 83,
   "id": "bac880e1",
   "metadata": {},
   "outputs": [],
   "source": [
    "y_pred=model.predict(X_new)\n",
    "classes_x=np.argmax(y_proba,axis=1)"
   ]
  },
  {
   "cell_type": "code",
   "execution_count": 84,
   "id": "72c046d9",
   "metadata": {},
   "outputs": [
    {
     "data": {
      "text/plain": [
       "array([7, 2, 1, 0, 4], dtype=int64)"
      ]
     },
     "execution_count": 84,
     "metadata": {},
     "output_type": "execute_result"
    }
   ],
   "source": [
    "classes_x"
   ]
  },
  {
   "cell_type": "code",
   "execution_count": 86,
   "id": "a7371788",
   "metadata": {},
   "outputs": [
    {
     "data": {
      "text/plain": [
       "array(['Seven', 'Two', 'One', 'Zero', 'Four'], dtype='<U5')"
      ]
     },
     "execution_count": 86,
     "metadata": {},
     "output_type": "execute_result"
    }
   ],
   "source": [
    "np.array(classes_names)[classes_x]"
   ]
  },
  {
   "cell_type": "code",
   "execution_count": 89,
   "id": "31a2d770",
   "metadata": {},
   "outputs": [
    {
     "name": "stdout",
     "output_type": "stream",
     "text": [
      "AxesImage(54,36;334.8x217.44)\n"
     ]
    },
    {
     "data": {
      "image/png": "[encoded data removed]",
      "text/plain": [
       "<Figure size 432x288 with 1 Axes>"
      ]
     },
     "metadata": {
      "needs_background": "light"
     },
     "output_type": "display_data"
    }
   ],
   "source": [
    "print(plt.imshow(X_test[0]))"
   ]
  },
  {
   "cell_type": "code",
   "execution_count": null,
   "id": "fa955e92",
   "metadata": {},
   "outputs": [],
   "source": []
  },
  {
   "cell_type": "code",
   "execution_count": null,
   "id": "12e7e6c8",
   "metadata": {},
   "outputs": [],
   "source": []
  },
  {
   "cell_type": "code",
   "execution_count": null,
   "id": "edd5a94e",
   "metadata": {},
   "outputs": [],
   "source": []
  },
  {
   "cell_type": "code",
   "execution_count": null,
   "id": "bb6d5d81",
   "metadata": {},
   "outputs": [],
   "source": []
  },
  {
   "cell_type": "code",
   "execution_count": null,
   "id": "69f0fff6",
   "metadata": {},
   "outputs": [],
   "source": []
  },
  {
   "cell_type": "code",
   "execution_count": null,
   "id": "de58fb80",
   "metadata": {},
   "outputs": [],
   "source": []
  },
  {
   "cell_type": "code",
   "execution_count": null,
   "id": "371d72e8",
   "metadata": {},
   "outputs": [],
   "source": []
  },
  {
   "cell_type": "code",
   "execution_count": null,
   "id": "d83810fb",
   "metadata": {},
   "outputs": [],
   "source": []
  },
  {
   "cell_type": "code",
   "execution_count": null,
   "id": "71168bdc",
   "metadata": {},
   "outputs": [],
   "source": []
  },
  {
   "cell_type": "code",
   "execution_count": null,
   "id": "ab3d2ffb",
   "metadata": {},
   "outputs": [],
   "source": []
  },
  {
   "cell_type": "code",
   "execution_count": null,
   "id": "df7ed9e0",
   "metadata": {},
   "outputs": [],
   "source": []
  },
  {
   "cell_type": "code",
   "execution_count": null,
   "id": "dc54ba70",
   "metadata": {},
   "outputs": [],
   "source": []
  },
  {
   "cell_type": "code",
   "execution_count": null,
   "id": "f6cd9985",
   "metadata": {},
   "outputs": [],
   "source": []
  },
  {
   "cell_type": "code",
   "execution_count": null,
   "id": "0b3b9244",
   "metadata": {},
   "outputs": [],
   "source": []
  },
  {
   "cell_type": "code",
   "execution_count": null,
   "id": "65bf4888",
   "metadata": {},
   "outputs": [],
   "source": []
  },
  {
   "cell_type": "code",
   "execution_count": null,
   "id": "17764255",
   "metadata": {},
   "outputs": [],
   "source": []
  },
  {
   "cell_type": "code",
   "execution_count": null,
   "id": "841f1521",
   "metadata": {},
   "outputs": [],
   "source": []
  },
  {
   "cell_type": "code",
   "execution_count": null,
   "id": "ced22e9a",
   "metadata": {},
   "outputs": [],
   "source": []
  },
  {
   "cell_type": "code",
   "execution_count": null,
   "id": "01a23ff2",
   "metadata": {},
   "outputs": [],
   "source": []
  },
  {
   "cell_type": "code",
   "execution_count": null,
   "id": "f3478e2d",
   "metadata": {},
   "outputs": [],
   "source": []
  },
  {
   "cell_type": "code",
   "execution_count": null,
   "id": "17e1ae58",
   "metadata": {},
   "outputs": [],
   "source": []
  },
  {
   "cell_type": "code",
   "execution_count": null,
   "id": "9d52fea1",
   "metadata": {},
   "outputs": [],
   "source": []
  },
  {
   "cell_type": "code",
   "execution_count": null,
   "id": "1f6eb128",
   "metadata": {},
   "outputs": [],
   "source": []
  },
  {
   "cell_type": "code",
   "execution_count": null,
   "id": "cc64f37d",
   "metadata": {},
   "outputs": [],
   "source": []
  },
  {
   "cell_type": "code",
   "execution_count": null,
   "id": "5d63c355",
   "metadata": {},
   "outputs": [],
   "source": []
  },
  {
   "cell_type": "code",
   "execution_count": null,
   "id": "f514927e",
   "metadata": {},
   "outputs": [],
   "source": []
  },
  {
   "cell_type": "code",
   "execution_count": null,
   "id": "ed548bb5",
   "metadata": {},
   "outputs": [],
   "source": []
  }
 ],
 "metadata": {
  "kernelspec": {
   "display_name": "Python 3 (ipykernel)",
   "language": "python",
   "name": "python3"
  },
  "language_info": {
   "codemirror_mode": {
    "name": "ipython",
    "version": 3
   },
   "file_extension": ".py",
   "mimetype": "text/x-python",
   "name": "python",
   "nbconvert_exporter": "python",
   "pygments_lexer": "ipython3",
   "version": "3.9.7"
  }
 },
 "nbformat": 4,
 "nbformat_minor": 5
}
