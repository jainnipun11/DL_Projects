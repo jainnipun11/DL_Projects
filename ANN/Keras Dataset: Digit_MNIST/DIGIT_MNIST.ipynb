{
 "cells": [
  {
   "cell_type": "code",
   "execution_count": 1,
   "id": "a3b43653",
   "metadata": {},
   "outputs": [],
   "source": [
    "import numpy as np\n",
    "import pandas as pd\n",
    "import matplotlib as mpl\n",
    "import matplotlib.pyplot as plt\n",
    "import seaborn as sns"
   ]
  },
  {
   "cell_type": "code",
   "execution_count": 3,
   "id": "f2db7486",
   "metadata": {},
   "outputs": [],
   "source": [
    "import tensorflow as tf\n",
    "from tensorflow import keras"
   ]
  },
  {
   "cell_type": "code",
   "execution_count": 9,
   "id": "9bf595b7",
   "metadata": {},
   "outputs": [],
   "source": [
    "digit_mnist=keras.datasets.mnist\n",
    "(X_train_full,Y_train_full),(X_test_full,Y_test_full)=digit_mnist.load_data()"
   ]
  },
  {
   "cell_type": "code",
   "execution_count": null,
   "id": "0bcdf153",
   "metadata": {},
   "outputs": [],
   "source": []
  },
  {
   "cell_type": "code",
   "execution_count": 10,
   "id": "3f9bcbe4",
   "metadata": {},
   "outputs": [
    {
     "data": {
      "text/plain": [
       "<matplotlib.image.AxesImage at 0x25e2274d400>"
      ]
     },
     "execution_count": 10,
     "metadata": {},
     "output_type": "execute_result"
    },
    {
     "data": {
      "image/png": "[encoded data removed]",
      "text/plain": [
       "<Figure size 432x288 with 1 Axes>"
      ]
     },
     "metadata": {
      "needs_background": "light"
     },
     "output_type": "display_data"
    }
   ],
   "source": [
    "plt.imshow(X_train_full[2])"
   ]
  },
  {
   "cell_type": "code",
   "execution_count": null,
   "id": "c3e7b8de",
   "metadata": {},
   "outputs": [],
   "source": []
  },
  {
   "cell_type": "code",
   "execution_count": 11,
   "id": "b87bebe0",
   "metadata": {},
   "outputs": [],
   "source": [
    "class_name=[\"Zero\",\"One\",\"Two\",\"Three\",\"Four\",\"Five\",\"Six\",\"Seven\",\"Eight\",\"Nine\"]"
   ]
  },
  {
   "cell_type": "code",
   "execution_count": null,
   "id": "391b7518",
   "metadata": {},
   "outputs": [],
   "source": []
  },
  {
   "cell_type": "code",
   "execution_count": 13,
   "id": "eb8d4366",
   "metadata": {},
   "outputs": [],
   "source": [
    "X_train_n=X_train_full/255.\n",
    "X_test_n=X_test/255."
   ]
  },
  {
   "cell_type": "code",
   "execution_count": 20,
   "id": "aa5ebf8c",
   "metadata": {},
   "outputs": [],
   "source": [
    "np.random.seed(42)\n",
    "tf.random.set_seed(42)"
   ]
  },
  {
   "cell_type": "code",
   "execution_count": null,
   "id": "a73326b1",
   "metadata": {},
   "outputs": [],
   "source": []
  },
  {
   "cell_type": "code",
   "execution_count": 25,
   "id": "ef355e25",
   "metadata": {},
   "outputs": [],
   "source": [
    "X_valid,X_train=X_train_n[:6000],X_train_n[6000:]\n",
    "Y_valid,Y_train=Y_train_full[:6000],Y_train_full[6000:]"
   ]
  },
  {
   "cell_type": "code",
   "execution_count": null,
   "id": "1f83b6cd",
   "metadata": {},
   "outputs": [],
   "source": []
  },
  {
   "cell_type": "code",
   "execution_count": null,
   "id": "84a0d70b",
   "metadata": {},
   "outputs": [],
   "source": []
  },
  {
   "cell_type": "code",
   "execution_count": 26,
   "id": "358e2e55",
   "metadata": {},
   "outputs": [],
   "source": [
    "model=keras.models.Sequential()\n",
    "model.add(keras.layers.Flatten(input_shape=[28,28]))\n",
    "model.add(keras.layers.Dense(300,activation='relu'))\n",
    "model.add(keras.layers.Dense(200,activation='relu'))\n",
    "model.add(keras.layers.Dense(10,activation='softmax'))"
   ]
  },
  {
   "cell_type": "code",
   "execution_count": null,
   "id": "888fe26b",
   "metadata": {},
   "outputs": [],
   "source": []
  },
  {
   "cell_type": "code",
   "execution_count": null,
   "id": "231ac449",
   "metadata": {},
   "outputs": [],
   "source": []
  },
  {
   "cell_type": "code",
   "execution_count": 27,
   "id": "cf93007c",
   "metadata": {},
   "outputs": [],
   "source": [
    "model.compile(loss=\"sparse_categorical_crossentropy\",\n",
    "             optimizer=\"sgd\",\n",
    "             metrics=['accuracy'])"
   ]
  },
  {
   "cell_type": "code",
   "execution_count": null,
   "id": "16afb8db",
   "metadata": {},
   "outputs": [],
   "source": []
  },
  {
   "cell_type": "code",
   "execution_count": 28,
   "id": "ef44bfe6",
   "metadata": {},
   "outputs": [
    {
     "name": "stdout",
     "output_type": "stream",
     "text": [
      "Epoch 1/30\n",
      "1688/1688 [==============================] - 6s 3ms/step - loss: 0.6108 - accuracy: 0.8471 - val_loss: 0.3052 - val_accuracy: 0.9153\n",
      "Epoch 2/30\n",
      "1688/1688 [==============================] - 5s 3ms/step - loss: 0.2890 - accuracy: 0.9173 - val_loss: 0.2448 - val_accuracy: 0.9340\n",
      "Epoch 3/30\n",
      "1688/1688 [==============================] - 5s 3ms/step - loss: 0.2383 - accuracy: 0.9314 - val_loss: 0.2116 - val_accuracy: 0.9413\n",
      "Epoch 4/30\n",
      "1688/1688 [==============================] - 5s 3ms/step - loss: 0.2044 - accuracy: 0.9417 - val_loss: 0.1848 - val_accuracy: 0.9493\n",
      "Epoch 5/30\n",
      "1688/1688 [==============================] - 5s 3ms/step - loss: 0.1791 - accuracy: 0.9479 - val_loss: 0.1654 - val_accuracy: 0.9542\n",
      "Epoch 6/30\n",
      "1688/1688 [==============================] - 6s 3ms/step - loss: 0.1593 - accuracy: 0.9544 - val_loss: 0.1519 - val_accuracy: 0.9573\n",
      "Epoch 7/30\n",
      "1688/1688 [==============================] - 5s 3ms/step - loss: 0.1432 - accuracy: 0.9597 - val_loss: 0.1376 - val_accuracy: 0.9610\n",
      "Epoch 8/30\n",
      "1688/1688 [==============================] - 5s 3ms/step - loss: 0.1299 - accuracy: 0.9629 - val_loss: 0.1311 - val_accuracy: 0.9622\n",
      "Epoch 9/30\n",
      "1688/1688 [==============================] - 5s 3ms/step - loss: 0.1186 - accuracy: 0.9663 - val_loss: 0.1226 - val_accuracy: 0.9660\n",
      "Epoch 10/30\n",
      "1688/1688 [==============================] - 5s 3ms/step - loss: 0.1090 - accuracy: 0.9683 - val_loss: 0.1180 - val_accuracy: 0.9677\n",
      "Epoch 11/30\n",
      "1688/1688 [==============================] - 5s 3ms/step - loss: 0.1002 - accuracy: 0.9718 - val_loss: 0.1073 - val_accuracy: 0.9705\n",
      "Epoch 12/30\n",
      "1688/1688 [==============================] - 5s 3ms/step - loss: 0.0932 - accuracy: 0.9733 - val_loss: 0.1046 - val_accuracy: 0.9710\n",
      "Epoch 13/30\n",
      "1688/1688 [==============================] - 5s 3ms/step - loss: 0.0861 - accuracy: 0.9760 - val_loss: 0.0980 - val_accuracy: 0.9728\n",
      "Epoch 14/30\n",
      "1688/1688 [==============================] - 5s 3ms/step - loss: 0.0801 - accuracy: 0.9776 - val_loss: 0.0942 - val_accuracy: 0.9730\n",
      "Epoch 15/30\n",
      "1688/1688 [==============================] - 6s 3ms/step - loss: 0.0749 - accuracy: 0.9790 - val_loss: 0.0929 - val_accuracy: 0.9733\n",
      "Epoch 16/30\n",
      "1688/1688 [==============================] - 5s 3ms/step - loss: 0.0701 - accuracy: 0.9808 - val_loss: 0.0877 - val_accuracy: 0.9747\n",
      "Epoch 17/30\n",
      "1688/1688 [==============================] - 5s 3ms/step - loss: 0.0655 - accuracy: 0.9822 - val_loss: 0.0874 - val_accuracy: 0.9770\n",
      "Epoch 18/30\n",
      "1688/1688 [==============================] - 5s 3ms/step - loss: 0.0611 - accuracy: 0.9832 - val_loss: 0.0832 - val_accuracy: 0.9773\n",
      "Epoch 19/30\n",
      "1688/1688 [==============================] - 5s 3ms/step - loss: 0.0578 - accuracy: 0.9842 - val_loss: 0.0827 - val_accuracy: 0.9765\n",
      "Epoch 20/30\n",
      "1688/1688 [==============================] - 5s 3ms/step - loss: 0.0541 - accuracy: 0.9853 - val_loss: 0.0832 - val_accuracy: 0.9752\n",
      "Epoch 21/30\n",
      "1688/1688 [==============================] - 5s 3ms/step - loss: 0.0510 - accuracy: 0.9864 - val_loss: 0.0793 - val_accuracy: 0.9770\n",
      "Epoch 22/30\n",
      "1688/1688 [==============================] - 5s 3ms/step - loss: 0.0482 - accuracy: 0.9870 - val_loss: 0.0788 - val_accuracy: 0.9773\n",
      "Epoch 23/30\n",
      "1688/1688 [==============================] - 5s 3ms/step - loss: 0.0453 - accuracy: 0.9881 - val_loss: 0.0777 - val_accuracy: 0.9777\n",
      "Epoch 24/30\n",
      "1688/1688 [==============================] - 5s 3ms/step - loss: 0.0426 - accuracy: 0.9890 - val_loss: 0.0787 - val_accuracy: 0.9775\n",
      "Epoch 25/30\n",
      "1688/1688 [==============================] - 5s 3ms/step - loss: 0.0404 - accuracy: 0.9897 - val_loss: 0.0775 - val_accuracy: 0.9775\n",
      "Epoch 26/30\n",
      "1688/1688 [==============================] - 5s 3ms/step - loss: 0.0379 - accuracy: 0.9905 - val_loss: 0.0760 - val_accuracy: 0.9768\n",
      "Epoch 27/30\n",
      "1688/1688 [==============================] - 5s 3ms/step - loss: 0.0360 - accuracy: 0.9909 - val_loss: 0.0734 - val_accuracy: 0.9785\n",
      "Epoch 28/30\n",
      "1688/1688 [==============================] - 5s 3ms/step - loss: 0.0340 - accuracy: 0.9916 - val_loss: 0.0733 - val_accuracy: 0.9793\n",
      "Epoch 29/30\n",
      "1688/1688 [==============================] - 5s 3ms/step - loss: 0.0320 - accuracy: 0.9918 - val_loss: 0.0723 - val_accuracy: 0.9783\n",
      "Epoch 30/30\n",
      "1688/1688 [==============================] - 5s 3ms/step - loss: 0.0303 - accuracy: 0.9931 - val_loss: 0.0724 - val_accuracy: 0.9797\n"
     ]
    }
   ],
   "source": [
    "model_history=model.fit(X_train,Y_train,epochs=30,validation_data=(X_valid,Y_valid))"
   ]
  },
  {
   "cell_type": "code",
   "execution_count": 29,
   "id": "ddb65df4",
   "metadata": {},
   "outputs": [
    {
     "data": {
      "text/plain": [
       "{'verbose': 1, 'epochs': 30, 'steps': 1688}"
      ]
     },
     "execution_count": 29,
     "metadata": {},
     "output_type": "execute_result"
    }
   ],
   "source": [
    "model_history.params"
   ]
  },
  {
   "cell_type": "code",
   "execution_count": 30,
   "id": "cf8e3b87",
   "metadata": {},
   "outputs": [
    {
     "data": {
      "text/plain": [
       "{'loss': [0.610835075378418,\n",
       "  0.2889859974384308,\n",
       "  0.23831872642040253,\n",
       "  0.20441900193691254,\n",
       "  0.17908096313476562,\n",
       "  0.15934249758720398,\n",
       "  0.14324454963207245,\n",
       "  0.12988609075546265,\n",
       "  0.11857739835977554,\n",
       "  0.10899847745895386,\n",
       "  0.10023882985115051,\n",
       "  0.09321118146181107,\n",
       "  0.0860915333032608,\n",
       "  0.08005792647600174,\n",
       "  0.07487072050571442,\n",
       "  0.07007883489131927,\n",
       "  0.06553288549184799,\n",
       "  0.06110404431819916,\n",
       "  0.057766448706388474,\n",
       "  0.05409804359078407,\n",
       "  0.05104928836226463,\n",
       "  0.04819343611598015,\n",
       "  0.04525858536362648,\n",
       "  0.04263516888022423,\n",
       "  0.04037495329976082,\n",
       "  0.03794671967625618,\n",
       "  0.035974882543087006,\n",
       "  0.03403236344456673,\n",
       "  0.03203057870268822,\n",
       "  0.030278446152806282],\n",
       " 'accuracy': [0.8471481204032898,\n",
       "  0.917296290397644,\n",
       "  0.9313703775405884,\n",
       "  0.9416666626930237,\n",
       "  0.9479444622993469,\n",
       "  0.9543518424034119,\n",
       "  0.9597407579421997,\n",
       "  0.9628888964653015,\n",
       "  0.9663147926330566,\n",
       "  0.9682592749595642,\n",
       "  0.9717962741851807,\n",
       "  0.9732778072357178,\n",
       "  0.9760370254516602,\n",
       "  0.9775740504264832,\n",
       "  0.9789629578590393,\n",
       "  0.9807592630386353,\n",
       "  0.9821851849555969,\n",
       "  0.9831666946411133,\n",
       "  0.98416668176651,\n",
       "  0.9852963089942932,\n",
       "  0.9864444732666016,\n",
       "  0.9869815111160278,\n",
       "  0.9880555272102356,\n",
       "  0.9889629483222961,\n",
       "  0.9897407293319702,\n",
       "  0.9904629588127136,\n",
       "  0.9909259080886841,\n",
       "  0.9915740489959717,\n",
       "  0.9917963147163391,\n",
       "  0.9930740594863892],\n",
       " 'val_loss': [0.3051839768886566,\n",
       "  0.24479413032531738,\n",
       "  0.21157507598400116,\n",
       "  0.1847931146621704,\n",
       "  0.1653590053319931,\n",
       "  0.1518789529800415,\n",
       "  0.13756008446216583,\n",
       "  0.13105855882167816,\n",
       "  0.12256856262683868,\n",
       "  0.11802775412797928,\n",
       "  0.10734759271144867,\n",
       "  0.10462602972984314,\n",
       "  0.09798263758420944,\n",
       "  0.09417587518692017,\n",
       "  0.092892587184906,\n",
       "  0.08773577213287354,\n",
       "  0.08742963522672653,\n",
       "  0.08324717730283737,\n",
       "  0.0826566070318222,\n",
       "  0.08323018252849579,\n",
       "  0.07927054911851883,\n",
       "  0.07879756391048431,\n",
       "  0.07774583250284195,\n",
       "  0.07866956293582916,\n",
       "  0.07751046121120453,\n",
       "  0.07600310444831848,\n",
       "  0.0733783096075058,\n",
       "  0.07328064739704132,\n",
       "  0.07233697921037674,\n",
       "  0.07238811254501343],\n",
       " 'val_accuracy': [0.9153333306312561,\n",
       "  0.9340000152587891,\n",
       "  0.9413333535194397,\n",
       "  0.9493333101272583,\n",
       "  0.9541666507720947,\n",
       "  0.9573333263397217,\n",
       "  0.9610000252723694,\n",
       "  0.9621666669845581,\n",
       "  0.9660000205039978,\n",
       "  0.9676666855812073,\n",
       "  0.9704999923706055,\n",
       "  0.9710000157356262,\n",
       "  0.9728333353996277,\n",
       "  0.9729999899864197,\n",
       "  0.9733333587646484,\n",
       "  0.9746666550636292,\n",
       "  0.9769999980926514,\n",
       "  0.9773333072662354,\n",
       "  0.9764999747276306,\n",
       "  0.9751666784286499,\n",
       "  0.9769999980926514,\n",
       "  0.9773333072662354,\n",
       "  0.9776666760444641,\n",
       "  0.9775000214576721,\n",
       "  0.9775000214576721,\n",
       "  0.9768333435058594,\n",
       "  0.9785000085830688,\n",
       "  0.9793333411216736,\n",
       "  0.9783333539962769,\n",
       "  0.9796666502952576]}"
      ]
     },
     "execution_count": 30,
     "metadata": {},
     "output_type": "execute_result"
    }
   ],
   "source": [
    "model_history.history"
   ]
  },
  {
   "cell_type": "code",
   "execution_count": 31,
   "id": "4b6e082c",
   "metadata": {},
   "outputs": [
    {
     "name": "stdout",
     "output_type": "stream",
     "text": [
      "313/313 [==============================] - 2s 3ms/step - loss: 12.5936 - accuracy: 0.9761\n"
     ]
    },
    {
     "data": {
      "text/plain": [
       "[12.593561172485352, 0.9761000275611877]"
      ]
     },
     "execution_count": 31,
     "metadata": {},
     "output_type": "execute_result"
    }
   ],
   "source": [
    "model.evaluate(X_test,Y_test)"
   ]
  },
  {
   "cell_type": "code",
   "execution_count": 32,
   "id": "4a5c28c2",
   "metadata": {},
   "outputs": [
    {
     "data": {
      "image/png": "[encoded data removed]",
      "text/plain": [
       "<Figure size 576x360 with 1 Axes>"
      ]
     },
     "metadata": {
      "needs_background": "light"
     },
     "output_type": "display_data"
    }
   ],
   "source": [
    "pd.DataFrame(model_history.history).plot(figsize=(8,5))\n",
    "plt.grid(True)\n",
    "plt.gca().set_ylim(0,1)  #To set y-axis between 0 and 1\n",
    "plt.show()"
   ]
  },
  {
   "cell_type": "code",
   "execution_count": 33,
   "id": "4c3e7108",
   "metadata": {},
   "outputs": [],
   "source": [
    "X_new=X_test[:5]"
   ]
  },
  {
   "cell_type": "code",
   "execution_count": 34,
   "id": "20d6784e",
   "metadata": {},
   "outputs": [
    {
     "data": {
      "text/plain": [
       "array([[0., 0., 0., 0., 0., 0., 0., 1., 0., 0.],\n",
       "       [0., 0., 1., 0., 0., 0., 0., 0., 0., 0.],\n",
       "       [0., 1., 0., 0., 0., 0., 0., 0., 0., 0.],\n",
       "       [1., 0., 0., 0., 0., 0., 0., 0., 0., 0.],\n",
       "       [0., 0., 0., 0., 1., 0., 0., 0., 0., 0.]], dtype=float32)"
      ]
     },
     "execution_count": 34,
     "metadata": {},
     "output_type": "execute_result"
    }
   ],
   "source": [
    "y_proba=model.predict(X_new)\n",
    "y_proba.round(2)"
   ]
  },
  {
   "cell_type": "code",
   "execution_count": 35,
   "id": "bc0977d7",
   "metadata": {},
   "outputs": [],
   "source": [
    "y_pred=model.predict(X_new)\n",
    "classes_x=np.argmax(y_proba,axis=1)"
   ]
  },
  {
   "cell_type": "code",
   "execution_count": 36,
   "id": "9d9e4c0e",
   "metadata": {},
   "outputs": [
    {
     "data": {
      "text/plain": [
       "array([7, 2, 1, 0, 4], dtype=int64)"
      ]
     },
     "execution_count": 36,
     "metadata": {},
     "output_type": "execute_result"
    }
   ],
   "source": [
    "classes_x"
   ]
  },
  {
   "cell_type": "code",
   "execution_count": 38,
   "id": "c0e68d7f",
   "metadata": {},
   "outputs": [
    {
     "data": {
      "text/plain": [
       "array(['Seven', 'Two', 'One', 'Zero', 'Four'], dtype='<U5')"
      ]
     },
     "execution_count": 38,
     "metadata": {},
     "output_type": "execute_result"
    }
   ],
   "source": [
    "np.array(class_name)[classes_x]"
   ]
  },
  {
   "cell_type": "code",
   "execution_count": 39,
   "id": "c0be9443",
   "metadata": {},
   "outputs": [
    {
     "data": {
      "text/plain": [
       "<matplotlib.image.AxesImage at 0x25e214551c0>"
      ]
     },
     "execution_count": 39,
     "metadata": {},
     "output_type": "execute_result"
    },
    {
     "data": {
      "image/png": "[encoded data removed]",
      "text/plain": [
       "<Figure size 432x288 with 1 Axes>"
      ]
     },
     "metadata": {
      "needs_background": "light"
     },
     "output_type": "display_data"
    }
   ],
   "source": [
    "plt.imshow(X_test[0])"
   ]
  },
  {
   "cell_type": "code",
   "execution_count": null,
   "id": "b2893c6b",
   "metadata": {},
   "outputs": [],
   "source": []
  },
  {
   "cell_type": "code",
   "execution_count": null,
   "id": "41d3db1f",
   "metadata": {},
   "outputs": [],
   "source": []
  },
  {
   "cell_type": "code",
   "execution_count": null,
   "id": "a46e755e",
   "metadata": {},
   "outputs": [],
   "source": []
  },
  {
   "cell_type": "code",
   "execution_count": null,
   "id": "98cd6ab7",
   "metadata": {},
   "outputs": [],
   "source": []
  },
  {
   "cell_type": "code",
   "execution_count": null,
   "id": "3dfa31f2",
   "metadata": {},
   "outputs": [],
   "source": []
  },
  {
   "cell_type": "code",
   "execution_count": null,
   "id": "06a68c42",
   "metadata": {},
   "outputs": [],
   "source": []
  },
  {
   "cell_type": "code",
   "execution_count": null,
   "id": "6b3f309b",
   "metadata": {},
   "outputs": [],
   "source": []
  },
  {
   "cell_type": "code",
   "execution_count": null,
   "id": "71e90bfe",
   "metadata": {},
   "outputs": [],
   "source": []
  },
  {
   "cell_type": "code",
   "execution_count": null,
   "id": "09c2d943",
   "metadata": {},
   "outputs": [],
   "source": []
  },
  {
   "cell_type": "code",
   "execution_count": null,
   "id": "16ebd686",
   "metadata": {},
   "outputs": [],
   "source": []
  }
 ],
 "metadata": {
  "kernelspec": {
   "display_name": "Python 3 (ipykernel)",
   "language": "python",
   "name": "python3"
  },
  "language_info": {
   "codemirror_mode": {
    "name": "ipython",
    "version": 3
   },
   "file_extension": ".py",
   "mimetype": "text/x-python",
   "name": "python",
   "nbconvert_exporter": "python",
   "pygments_lexer": "ipython3",
   "version": "3.9.7"
  }
 },
 "nbformat": 4,
 "nbformat_minor": 5
}
