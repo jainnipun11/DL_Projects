{
 "cells": [
  {
   "cell_type": "code",
   "execution_count": 3,
   "id": "113edea0",
   "metadata": {},
   "outputs": [],
   "source": [
    "import numpy as np\n",
    "import pandas as pd\n",
    "import seaborn as sns\n",
    "import matplotlib as mpl\n",
    "import matplotlib.pyplot as plt"
   ]
  },
  {
   "cell_type": "code",
   "execution_count": 4,
   "id": "f6b783c8",
   "metadata": {},
   "outputs": [],
   "source": [
    "import tensorflow as tf\n",
    "from tensorflow import keras"
   ]
  },
  {
   "cell_type": "code",
   "execution_count": 5,
   "id": "9f4c435d",
   "metadata": {},
   "outputs": [],
   "source": [
    "fashion_mnist=keras.datasets.fashion_mnist\n",
    "(X_train_full,y_train_full),(X_test,y_test)=fashion_mnist.load_data()"
   ]
  },
  {
   "cell_type": "code",
   "execution_count": 6,
   "id": "216fc48c",
   "metadata": {},
   "outputs": [],
   "source": [
    "class_names=['T-Shirt/top',\"Trouser\",\"Pullover\",\"Dress\",\"Coat\",\"Sandal\",\"Shirt\",\"Sneaker\",\"Bag\",\"Ankle Boot\"]"
   ]
  },
  {
   "cell_type": "markdown",
   "id": "42353119",
   "metadata": {},
   "source": [
    "#### DATA RESHAPING"
   ]
  },
  {
   "cell_type": "markdown",
   "id": "9536e3d2",
   "metadata": {},
   "source": [
    "##### In ANN, we flatten our 2-D images to 1-D. But in CNN, we need to expand our 2D images to 3 Dimensional images."
   ]
  },
  {
   "cell_type": "markdown",
   "id": "bbe0a7c2",
   "metadata": {},
   "source": [
    "##### One for height, One for width and another for channels."
   ]
  },
  {
   "cell_type": "code",
   "execution_count": 7,
   "id": "86f73fb5",
   "metadata": {},
   "outputs": [],
   "source": [
    "X_train_full=X_train_full.reshape((60000,28,28,1))   #60000 for images, 28*28 the dimension and 1 to make it 3D.\n",
    "X_test=X_test.reshape((10000,28,28,1))    #10000 for images, 28*28 the dimension and 1 to make it 3D."
   ]
  },
  {
   "cell_type": "markdown",
   "id": "451dce20",
   "metadata": {},
   "source": [
    "#### Data Normalization"
   ]
  },
  {
   "cell_type": "code",
   "execution_count": 8,
   "id": "75edac44",
   "metadata": {},
   "outputs": [],
   "source": [
    "X_train_n=X_train_full/255\n",
    "X_test_n=X_test/255"
   ]
  },
  {
   "cell_type": "code",
   "execution_count": 9,
   "id": "6af3dd2d",
   "metadata": {},
   "outputs": [],
   "source": [
    "X_valid,X_train=X_train_n[:5000],X_train_n[5000:]\n",
    "Y_valid,Y_train=y_train_full[:5000],y_train_full[5000:]\n",
    "X_test=X_test_n"
   ]
  },
  {
   "cell_type": "markdown",
   "id": "0cfcbe40",
   "metadata": {},
   "source": [
    "#### Create the Model Architecture"
   ]
  },
  {
   "cell_type": "code",
   "execution_count": 10,
   "id": "31206f1b",
   "metadata": {},
   "outputs": [],
   "source": [
    "np.random.seed(42)\n",
    "tf.random.set_seed(42)"
   ]
  },
  {
   "cell_type": "code",
   "execution_count": 11,
   "id": "22b765ea",
   "metadata": {},
   "outputs": [],
   "source": [
    "model=keras.models.Sequential()\n",
    "model.add(keras.layers.Conv2D(filters=32,kernel_size=(3,3),strides=1,padding='valid',activation='relu',input_shape=(28,28,1)))\n",
    "#in (28,29,1), since here we have grayscale images we are using 1, if there are coloured images wew use 3(RGB).\n",
    "model.add(keras.layers.MaxPooling2D((2,2)))\n",
    "\n",
    "model.add(keras.layers.Flatten())\n",
    "model.add(keras.layers.Dense(300,activation='relu'))\n",
    "model.add(keras.layers.Dense(100,activation='relu'))\n",
    "model.add(keras.layers.Dense(10,activation='softmax'))"
   ]
  },
  {
   "cell_type": "code",
   "execution_count": 12,
   "id": "caaf2829",
   "metadata": {},
   "outputs": [
    {
     "name": "stdout",
     "output_type": "stream",
     "text": [
      "Model: \"sequential\"\n",
      "_________________________________________________________________\n",
      " Layer (type)                Output Shape              Param #   \n",
      "=================================================================\n",
      " conv2d (Conv2D)             (None, 26, 26, 32)        320       \n",
      "                                                                 \n",
      " max_pooling2d (MaxPooling2D  (None, 13, 13, 32)       0         \n",
      " )                                                               \n",
      "                                                                 \n",
      " flatten (Flatten)           (None, 5408)              0         \n",
      "                                                                 \n",
      " dense (Dense)               (None, 300)               1622700   \n",
      "                                                                 \n",
      " dense_1 (Dense)             (None, 100)               30100     \n",
      "                                                                 \n",
      " dense_2 (Dense)             (None, 10)                1010      \n",
      "                                                                 \n",
      "=================================================================\n",
      "Total params: 1,654,130\n",
      "Trainable params: 1,654,130\n",
      "Non-trainable params: 0\n",
      "_________________________________________________________________\n"
     ]
    }
   ],
   "source": [
    "model.summary()"
   ]
  },
  {
   "cell_type": "markdown",
   "id": "7ac0966c",
   "metadata": {},
   "source": [
    "##### Using pooling layer has significantly reduced the number of parameter in the dense layer. "
   ]
  },
  {
   "cell_type": "code",
   "execution_count": 13,
   "id": "d54de5c0",
   "metadata": {},
   "outputs": [],
   "source": [
    "model.compile(loss=\"sparse_categorical_crossentropy\",\n",
    "             optimizer=\"sgd\",\n",
    "             metrics=['accuracy'])  #In classification problems, we use 'accuracy'."
   ]
  },
  {
   "cell_type": "code",
   "execution_count": null,
   "id": "884dac34",
   "metadata": {},
   "outputs": [],
   "source": []
  },
  {
   "cell_type": "code",
   "execution_count": 14,
   "id": "9f637511",
   "metadata": {},
   "outputs": [
    {
     "name": "stdout",
     "output_type": "stream",
     "text": [
      "Epoch 1/30\n",
      "860/860 [==============================] - 12s 14ms/step - loss: 0.8766 - accuracy: 0.6990 - val_loss: 0.7514 - val_accuracy: 0.7340\n",
      "Epoch 2/30\n",
      "860/860 [==============================] - 12s 13ms/step - loss: 0.5390 - accuracy: 0.8047 - val_loss: 0.4929 - val_accuracy: 0.8184\n",
      "Epoch 3/30\n",
      "860/860 [==============================] - 12s 14ms/step - loss: 0.4807 - accuracy: 0.8256 - val_loss: 0.9232 - val_accuracy: 0.7088\n",
      "Epoch 4/30\n",
      "860/860 [==============================] - 15s 18ms/step - loss: 0.4436 - accuracy: 0.8416 - val_loss: 0.4176 - val_accuracy: 0.8542\n",
      "Epoch 5/30\n",
      "860/860 [==============================] - 15s 17ms/step - loss: 0.4196 - accuracy: 0.8502 - val_loss: 0.4318 - val_accuracy: 0.8496\n",
      "Epoch 6/30\n",
      "860/860 [==============================] - 15s 17ms/step - loss: 0.3955 - accuracy: 0.8583 - val_loss: 0.3760 - val_accuracy: 0.8714\n",
      "Epoch 7/30\n",
      "860/860 [==============================] - 15s 18ms/step - loss: 0.3780 - accuracy: 0.8659 - val_loss: 0.4047 - val_accuracy: 0.8562\n",
      "Epoch 8/30\n",
      "860/860 [==============================] - 15s 18ms/step - loss: 0.3627 - accuracy: 0.8697 - val_loss: 0.4999 - val_accuracy: 0.8156\n",
      "Epoch 9/30\n",
      "860/860 [==============================] - 16s 19ms/step - loss: 0.3489 - accuracy: 0.8737 - val_loss: 0.3700 - val_accuracy: 0.8692\n",
      "Epoch 10/30\n",
      "860/860 [==============================] - 16s 19ms/step - loss: 0.3368 - accuracy: 0.8787 - val_loss: 0.3816 - val_accuracy: 0.8602\n",
      "Epoch 11/30\n",
      "860/860 [==============================] - 15s 17ms/step - loss: 0.3249 - accuracy: 0.8816 - val_loss: 0.3457 - val_accuracy: 0.8770\n",
      "Epoch 12/30\n",
      "860/860 [==============================] - 15s 17ms/step - loss: 0.3136 - accuracy: 0.8867 - val_loss: 0.3246 - val_accuracy: 0.8860\n",
      "Epoch 13/30\n",
      "860/860 [==============================] - 16s 18ms/step - loss: 0.3062 - accuracy: 0.8890 - val_loss: 0.3319 - val_accuracy: 0.8876\n",
      "Epoch 14/30\n",
      "860/860 [==============================] - 17s 20ms/step - loss: 0.2978 - accuracy: 0.8909 - val_loss: 0.3898 - val_accuracy: 0.8556\n",
      "Epoch 15/30\n",
      "860/860 [==============================] - 16s 19ms/step - loss: 0.2899 - accuracy: 0.8958 - val_loss: 0.3858 - val_accuracy: 0.8608\n",
      "Epoch 16/30\n",
      "860/860 [==============================] - 17s 20ms/step - loss: 0.2833 - accuracy: 0.8969 - val_loss: 0.2962 - val_accuracy: 0.8936\n",
      "Epoch 17/30\n",
      "860/860 [==============================] - 16s 19ms/step - loss: 0.2757 - accuracy: 0.9001 - val_loss: 0.4058 - val_accuracy: 0.8614\n",
      "Epoch 18/30\n",
      "860/860 [==============================] - 16s 19ms/step - loss: 0.2703 - accuracy: 0.9010 - val_loss: 0.3519 - val_accuracy: 0.8744\n",
      "Epoch 19/30\n",
      "860/860 [==============================] - 16s 18ms/step - loss: 0.2641 - accuracy: 0.9041 - val_loss: 0.3042 - val_accuracy: 0.8902\n",
      "Epoch 20/30\n",
      "860/860 [==============================] - 16s 19ms/step - loss: 0.2587 - accuracy: 0.9053 - val_loss: 0.3221 - val_accuracy: 0.8838\n",
      "Epoch 21/30\n",
      "860/860 [==============================] - 16s 18ms/step - loss: 0.2527 - accuracy: 0.9082 - val_loss: 0.2830 - val_accuracy: 0.9010\n",
      "Epoch 22/30\n",
      "860/860 [==============================] - 16s 19ms/step - loss: 0.2472 - accuracy: 0.9093 - val_loss: 0.2867 - val_accuracy: 0.8980\n",
      "Epoch 23/30\n",
      "860/860 [==============================] - 16s 18ms/step - loss: 0.2420 - accuracy: 0.9109 - val_loss: 0.2774 - val_accuracy: 0.9036\n",
      "Epoch 24/30\n",
      "860/860 [==============================] - 16s 19ms/step - loss: 0.2372 - accuracy: 0.9134 - val_loss: 0.2991 - val_accuracy: 0.8920\n",
      "Epoch 25/30\n",
      "860/860 [==============================] - 17s 20ms/step - loss: 0.2327 - accuracy: 0.9151 - val_loss: 0.2906 - val_accuracy: 0.8958\n",
      "Epoch 26/30\n",
      "860/860 [==============================] - 16s 19ms/step - loss: 0.2289 - accuracy: 0.9160 - val_loss: 0.2768 - val_accuracy: 0.9038\n",
      "Epoch 27/30\n",
      "860/860 [==============================] - 16s 18ms/step - loss: 0.2248 - accuracy: 0.9178 - val_loss: 0.2760 - val_accuracy: 0.9004\n",
      "Epoch 28/30\n",
      "860/860 [==============================] - 16s 19ms/step - loss: 0.2202 - accuracy: 0.9189 - val_loss: 0.3078 - val_accuracy: 0.8926\n",
      "Epoch 29/30\n",
      "860/860 [==============================] - 16s 19ms/step - loss: 0.2150 - accuracy: 0.9209 - val_loss: 0.2703 - val_accuracy: 0.9036\n",
      "Epoch 30/30\n",
      "860/860 [==============================] - 16s 19ms/step - loss: 0.2120 - accuracy: 0.9222 - val_loss: 0.2702 - val_accuracy: 0.9040\n"
     ]
    }
   ],
   "source": [
    "model_history=model.fit(X_train,Y_train,epochs=30,batch_size=64,\n",
    "                       validation_data=(X_valid,Y_valid))"
   ]
  },
  {
   "cell_type": "code",
   "execution_count": null,
   "id": "c7fbccc5",
   "metadata": {},
   "outputs": [],
   "source": []
  },
  {
   "cell_type": "code",
   "execution_count": 15,
   "id": "912d7413",
   "metadata": {},
   "outputs": [
    {
     "data": {
      "text/plain": [
       "{'loss': [0.8766356706619263,\n",
       "  0.5390267372131348,\n",
       "  0.4807088077068329,\n",
       "  0.443592369556427,\n",
       "  0.41961511969566345,\n",
       "  0.39552387595176697,\n",
       "  0.3780372142791748,\n",
       "  0.3626534938812256,\n",
       "  0.3488888144493103,\n",
       "  0.3368266224861145,\n",
       "  0.3249325752258301,\n",
       "  0.3136098384857178,\n",
       "  0.30617576837539673,\n",
       "  0.2978392541408539,\n",
       "  0.28986603021621704,\n",
       "  0.28333038091659546,\n",
       "  0.2757156193256378,\n",
       "  0.2702697217464447,\n",
       "  0.26408320665359497,\n",
       "  0.25871211290359497,\n",
       "  0.2527465522289276,\n",
       "  0.24718639254570007,\n",
       "  0.2419613152742386,\n",
       "  0.2372003048658371,\n",
       "  0.23270493745803833,\n",
       "  0.2289087027311325,\n",
       "  0.22476044297218323,\n",
       "  0.22016800940036774,\n",
       "  0.21496812999248505,\n",
       "  0.2119845151901245],\n",
       " 'accuracy': [0.6990000009536743,\n",
       "  0.8047090768814087,\n",
       "  0.8255817890167236,\n",
       "  0.8415636420249939,\n",
       "  0.8502363562583923,\n",
       "  0.8583272695541382,\n",
       "  0.8659454584121704,\n",
       "  0.8696908950805664,\n",
       "  0.8736909031867981,\n",
       "  0.8786908984184265,\n",
       "  0.881563663482666,\n",
       "  0.8866727352142334,\n",
       "  0.889018177986145,\n",
       "  0.89085453748703,\n",
       "  0.895763635635376,\n",
       "  0.8968726992607117,\n",
       "  0.9000727534294128,\n",
       "  0.9010363817214966,\n",
       "  0.9041091203689575,\n",
       "  0.9052727222442627,\n",
       "  0.9081818461418152,\n",
       "  0.9093272686004639,\n",
       "  0.9109272956848145,\n",
       "  0.9133999943733215,\n",
       "  0.9150727391242981,\n",
       "  0.9160181879997253,\n",
       "  0.9178363680839539,\n",
       "  0.9188908934593201,\n",
       "  0.9208727478981018,\n",
       "  0.9222363829612732],\n",
       " 'val_loss': [0.7513716220855713,\n",
       "  0.4929114282131195,\n",
       "  0.9232178926467896,\n",
       "  0.41761744022369385,\n",
       "  0.4317680597305298,\n",
       "  0.37602004408836365,\n",
       "  0.4046850800514221,\n",
       "  0.49992457032203674,\n",
       "  0.3699995279312134,\n",
       "  0.3815949559211731,\n",
       "  0.34571146965026855,\n",
       "  0.3245570659637451,\n",
       "  0.33192241191864014,\n",
       "  0.38978853821754456,\n",
       "  0.3858468532562256,\n",
       "  0.29617467522621155,\n",
       "  0.40577536821365356,\n",
       "  0.35192012786865234,\n",
       "  0.30419448018074036,\n",
       "  0.3220844268798828,\n",
       "  0.2829578220844269,\n",
       "  0.28667324781417847,\n",
       "  0.2773693799972534,\n",
       "  0.29914313554763794,\n",
       "  0.29057803750038147,\n",
       "  0.27681970596313477,\n",
       "  0.27600985765457153,\n",
       "  0.3078346848487854,\n",
       "  0.2703208327293396,\n",
       "  0.2702258825302124],\n",
       " 'val_accuracy': [0.734000027179718,\n",
       "  0.8184000253677368,\n",
       "  0.7088000178337097,\n",
       "  0.854200005531311,\n",
       "  0.8496000170707703,\n",
       "  0.871399998664856,\n",
       "  0.8561999797821045,\n",
       "  0.8155999779701233,\n",
       "  0.8691999912261963,\n",
       "  0.8601999878883362,\n",
       "  0.8769999742507935,\n",
       "  0.8859999775886536,\n",
       "  0.8876000046730042,\n",
       "  0.8555999994277954,\n",
       "  0.86080002784729,\n",
       "  0.8935999870300293,\n",
       "  0.8614000082015991,\n",
       "  0.8744000196456909,\n",
       "  0.8902000188827515,\n",
       "  0.8838000297546387,\n",
       "  0.9010000228881836,\n",
       "  0.8980000019073486,\n",
       "  0.9035999774932861,\n",
       "  0.8920000195503235,\n",
       "  0.895799994468689,\n",
       "  0.9038000106811523,\n",
       "  0.9003999829292297,\n",
       "  0.8925999999046326,\n",
       "  0.9035999774932861,\n",
       "  0.9039999842643738]}"
      ]
     },
     "execution_count": 15,
     "metadata": {},
     "output_type": "execute_result"
    }
   ],
   "source": [
    "model_history.history"
   ]
  },
  {
   "cell_type": "code",
   "execution_count": null,
   "id": "d39d2f1f",
   "metadata": {},
   "outputs": [],
   "source": []
  },
  {
   "cell_type": "code",
   "execution_count": 16,
   "id": "30e737fa",
   "metadata": {},
   "outputs": [
    {
     "data": {
      "image/png": "[encoded data removed]",
      "text/plain": [
       "<Figure size 576x360 with 1 Axes>"
      ]
     },
     "metadata": {
      "needs_background": "light"
     },
     "output_type": "display_data"
    }
   ],
   "source": [
    "pd.DataFrame(model_history.history).plot(figsize=(8,5))\n",
    "plt.grid(True)\n",
    "plt.gca().set_ylim(0,1)  #To set y-axis between 0 and 1\n",
    "plt.show()"
   ]
  },
  {
   "cell_type": "code",
   "execution_count": 17,
   "id": "97a94519",
   "metadata": {},
   "outputs": [
    {
     "name": "stdout",
     "output_type": "stream",
     "text": [
      "313/313 [==============================] - 1s 3ms/step - loss: 0.2812 - accuracy: 0.8987\n"
     ]
    },
    {
     "data": {
      "text/plain": [
       "[0.28120481967926025, 0.8986999988555908]"
      ]
     },
     "execution_count": 17,
     "metadata": {},
     "output_type": "execute_result"
    }
   ],
   "source": [
    "model_eval=model.evaluate(X_test,y_test)\n",
    "model_eval"
   ]
  },
  {
   "cell_type": "code",
   "execution_count": 18,
   "id": "2a3838a8",
   "metadata": {},
   "outputs": [],
   "source": [
    "X_new=X_test[:3]"
   ]
  },
  {
   "cell_type": "code",
   "execution_count": 19,
   "id": "1ace2c64",
   "metadata": {},
   "outputs": [
    {
     "data": {
      "text/plain": [
       "array([9, 2, 1], dtype=int64)"
      ]
     },
     "execution_count": 19,
     "metadata": {},
     "output_type": "execute_result"
    }
   ],
   "source": [
    "y_proba=model.predict(X_new)\n",
    "classes_x=np.argmax(y_proba,axis=1)\n",
    "classes_x"
   ]
  },
  {
   "cell_type": "code",
   "execution_count": 20,
   "id": "daf70e5a",
   "metadata": {},
   "outputs": [
    {
     "data": {
      "text/plain": [
       "array(['Ankle Boot', 'Pullover', 'Trouser'], dtype='<U11')"
      ]
     },
     "execution_count": 20,
     "metadata": {},
     "output_type": "execute_result"
    }
   ],
   "source": [
    "np.array(class_names)[classes_x]"
   ]
  },
  {
   "cell_type": "code",
   "execution_count": 21,
   "id": "11f658a7",
   "metadata": {},
   "outputs": [
    {
     "data": {
      "text/plain": [
       "array([9, 2, 1], dtype=uint8)"
      ]
     },
     "execution_count": 21,
     "metadata": {},
     "output_type": "execute_result"
    }
   ],
   "source": [
    "y_test[:3]"
   ]
  },
  {
   "cell_type": "code",
   "execution_count": 22,
   "id": "2bd4f476",
   "metadata": {},
   "outputs": [
    {
     "name": "stdout",
     "output_type": "stream",
     "text": [
      "AxesImage(54,36;334.8x217.44)\n"
     ]
    },
    {
     "data": {
      "image/png": "[encoded data removed]",
      "text/plain": [
       "<Figure size 432x288 with 1 Axes>"
      ]
     },
     "metadata": {
      "needs_background": "light"
     },
     "output_type": "display_data"
    }
   ],
   "source": [
    "print(plt.imshow(X_test[0].reshape(28,28)))"
   ]
  },
  {
   "cell_type": "code",
   "execution_count": null,
   "id": "e3f99bbe",
   "metadata": {},
   "outputs": [],
   "source": []
  },
  {
   "cell_type": "code",
   "execution_count": null,
   "id": "6ce97dc9",
   "metadata": {},
   "outputs": [],
   "source": []
  },
  {
   "cell_type": "code",
   "execution_count": null,
   "id": "a0a99e40",
   "metadata": {},
   "outputs": [],
   "source": []
  },
  {
   "cell_type": "code",
   "execution_count": null,
   "id": "ad2add3a",
   "metadata": {},
   "outputs": [],
   "source": []
  },
  {
   "cell_type": "code",
   "execution_count": null,
   "id": "595a7415",
   "metadata": {},
   "outputs": [],
   "source": []
  },
  {
   "cell_type": "code",
   "execution_count": null,
   "id": "f07d0147",
   "metadata": {},
   "outputs": [],
   "source": []
  },
  {
   "cell_type": "code",
   "execution_count": null,
   "id": "f5bb1dec",
   "metadata": {},
   "outputs": [],
   "source": []
  },
  {
   "cell_type": "code",
   "execution_count": null,
   "id": "a4ac8e10",
   "metadata": {},
   "outputs": [],
   "source": []
  },
  {
   "cell_type": "code",
   "execution_count": null,
   "id": "a436b675",
   "metadata": {},
   "outputs": [],
   "source": []
  },
  {
   "cell_type": "code",
   "execution_count": null,
   "id": "b2cb716f",
   "metadata": {},
   "outputs": [],
   "source": []
  },
  {
   "cell_type": "code",
   "execution_count": null,
   "id": "268376a0",
   "metadata": {},
   "outputs": [],
   "source": []
  },
  {
   "cell_type": "code",
   "execution_count": null,
   "id": "d4b55d34",
   "metadata": {},
   "outputs": [],
   "source": []
  },
  {
   "cell_type": "code",
   "execution_count": null,
   "id": "63b59d27",
   "metadata": {},
   "outputs": [],
   "source": []
  },
  {
   "cell_type": "code",
   "execution_count": null,
   "id": "d7483c2f",
   "metadata": {},
   "outputs": [],
   "source": []
  }
 ],
 "metadata": {
  "kernelspec": {
   "display_name": "Python 3 (ipykernel)",
   "language": "python",
   "name": "python3"
  },
  "language_info": {
   "codemirror_mode": {
    "name": "ipython",
    "version": 3
   },
   "file_extension": ".py",
   "mimetype": "text/x-python",
   "name": "python",
   "nbconvert_exporter": "python",
   "pygments_lexer": "ipython3",
   "version": "3.9.7"
  }
 },
 "nbformat": 4,
 "nbformat_minor": 5
}
