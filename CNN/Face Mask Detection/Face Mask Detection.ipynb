{
 "cells": [
  {
   "cell_type": "code",
   "execution_count": 2,
   "id": "9e92943e",
   "metadata": {},
   "outputs": [],
   "source": [
    "import numpy as np\n",
    "import pandas as pd\n",
    "import matplotlib as mpl\n",
    "import matplotlib.pyplot as plt\n",
    "import os"
   ]
  },
  {
   "cell_type": "code",
   "execution_count": 3,
   "id": "e04d68fe",
   "metadata": {},
   "outputs": [],
   "source": [
    "train_dir=r'C:\\Users\\hp\\Downloads\\Final_Assignment_Face Mask Dataset\\Train'\n",
    "valid_dir=r'C:\\Users\\hp\\Downloads\\Final_Assignment_Face Mask Dataset\\Validation'\n",
    "test_dir=r'C:\\Users\\hp\\Downloads\\Final_Assignment_Face Mask Dataset\\Test'"
   ]
  },
  {
   "cell_type": "code",
   "execution_count": 4,
   "id": "a96fa2a7",
   "metadata": {},
   "outputs": [],
   "source": [
    "import tensorflow as tf\n",
    "from tensorflow import keras"
   ]
  },
  {
   "cell_type": "code",
   "execution_count": 5,
   "id": "00d8644c",
   "metadata": {},
   "outputs": [
    {
     "name": "stdout",
     "output_type": "stream",
     "text": [
      "Found 10000 images belonging to 2 classes.\n",
      "Found 800 images belonging to 2 classes.\n"
     ]
    }
   ],
   "source": [
    "from tensorflow.keras.preprocessing.image import ImageDataGenerator\n",
    "\n",
    "train_datagen=ImageDataGenerator(\n",
    "rescale=1./255,\n",
    "height_shift_range=0.2,\n",
    "width_shift_range=0.2,\n",
    "rotation_range=40,\n",
    "shear_range=0.2,\n",
    "zoom_range=0.2,\n",
    "horizontal_flip=True)\n",
    "\n",
    "test_datagen=ImageDataGenerator(rescale=1./255)\n",
    "\n",
    "train_generator=train_datagen.flow_from_directory(\n",
    "train_dir,\n",
    "target_size=(128,128),\n",
    "batch_size=20,\n",
    "class_mode='binary')\n",
    "\n",
    "validation_generator=test_datagen.flow_from_directory(\n",
    "valid_dir,\n",
    "target_size=(128,128),\n",
    "batch_size=20,\n",
    "class_mode='binary')"
   ]
  },
  {
   "cell_type": "code",
   "execution_count": 6,
   "id": "503ba6d7",
   "metadata": {},
   "outputs": [],
   "source": [
    "from tensorflow.keras.applications import VGG19\n",
    "conv_base=VGG19(weights='imagenet',\n",
    "               include_top=False,\n",
    "               input_shape=(128,128,3))"
   ]
  },
  {
   "cell_type": "code",
   "execution_count": 7,
   "id": "895e358c",
   "metadata": {},
   "outputs": [],
   "source": [
    "from tensorflow.keras import models\n",
    "from tensorflow.keras import layers"
   ]
  },
  {
   "cell_type": "code",
   "execution_count": 8,
   "id": "28ec6a89",
   "metadata": {},
   "outputs": [],
   "source": [
    "model=models.Sequential()\n",
    "model.add(conv_base)\n",
    "model.add(layers.Flatten())\n",
    "model.add(layers.Dense(256,activation='relu'))\n",
    "model.add(layers.Dense(1,activation='sigmoid'))"
   ]
  },
  {
   "cell_type": "code",
   "execution_count": 9,
   "id": "11a439cd",
   "metadata": {},
   "outputs": [],
   "source": [
    "from tensorflow.keras import optimizers\n",
    "model.compile(loss='binary_crossentropy',\n",
    "             optimizer=optimizers.RMSprop(learning_rate=2e-5),\n",
    "             metrics=['acc'])\n"
   ]
  },
  {
   "cell_type": "code",
   "execution_count": 10,
   "id": "c67faa5f",
   "metadata": {},
   "outputs": [],
   "source": [
    "checkpoint_cb=keras.callbacks.ModelCheckpoint(\"CNN3-{epoch:02d}.h5\")"
   ]
  },
  {
   "cell_type": "code",
   "execution_count": null,
   "id": "8263b491",
   "metadata": {},
   "outputs": [],
   "source": []
  },
  {
   "cell_type": "code",
   "execution_count": 11,
   "id": "008f0f1d",
   "metadata": {},
   "outputs": [
    {
     "name": "stdout",
     "output_type": "stream",
     "text": [
      "Epoch 1/10\n",
      "50/50 [==============================] - 645s 13s/step - loss: 0.2577 - acc: 0.8860 - val_loss: 0.0582 - val_acc: 0.9725\n",
      "Epoch 2/10\n",
      "50/50 [==============================] - 634s 13s/step - loss: 0.0908 - acc: 0.9660 - val_loss: 0.0179 - val_acc: 0.9925\n",
      "Epoch 3/10\n",
      "50/50 [==============================] - 627s 13s/step - loss: 0.0455 - acc: 0.9850 - val_loss: 0.0138 - val_acc: 0.9950\n",
      "Epoch 4/10\n",
      "50/50 [==============================] - 1838s 37s/step - loss: 0.0592 - acc: 0.9850 - val_loss: 0.0052 - val_acc: 0.9975\n",
      "Epoch 5/10\n",
      "50/50 [==============================] - 906s 18s/step - loss: 0.0529 - acc: 0.9830 - val_loss: 0.0012 - val_acc: 1.0000\n",
      "Epoch 6/10\n",
      "50/50 [==============================] - 334s 7s/step - loss: 0.0506 - acc: 0.9830 - val_loss: 0.0045 - val_acc: 0.9975\n",
      "Epoch 7/10\n",
      "50/50 [==============================] - 5876s 120s/step - loss: 0.0354 - acc: 0.9870 - val_loss: 0.0057 - val_acc: 0.9975\n",
      "Epoch 8/10\n",
      "50/50 [==============================] - 302s 6s/step - loss: 0.0433 - acc: 0.9870 - val_loss: 0.0019 - val_acc: 1.0000\n",
      "Epoch 9/10\n",
      "50/50 [==============================] - 248s 5s/step - loss: 0.0217 - acc: 0.9920 - val_loss: 0.0158 - val_acc: 0.9925\n",
      "Epoch 10/10\n",
      "50/50 [==============================] - 251s 5s/step - loss: 0.0363 - acc: 0.9890 - val_loss: 8.3875e-04 - val_acc: 1.0000\n"
     ]
    }
   ],
   "source": [
    "model_history=model.fit(\n",
    "train_generator,\n",
    "steps_per_epoch=50,\n",
    "epochs=10,\n",
    "validation_data=validation_generator,\n",
    "validation_steps=20,\n",
    "callbacks=[checkpoint_cb])"
   ]
  },
  {
   "cell_type": "code",
   "execution_count": 12,
   "id": "03f6742d",
   "metadata": {},
   "outputs": [
    {
     "data": {
      "image/png": "[encoded data removed]",
      "text/plain": [
       "<Figure size 576x360 with 1 Axes>"
      ]
     },
     "metadata": {
      "needs_background": "light"
     },
     "output_type": "display_data"
    }
   ],
   "source": [
    "pd.DataFrame(model_history.history).plot(figsize=(8,5))\n",
    "plt.grid(True)\n",
    "plt.gca().set_ylim(0,1)  #To set y-axis between 0 and 1\n",
    "plt.show()"
   ]
  },
  {
   "cell_type": "code",
   "execution_count": 13,
   "id": "5f58f6c3",
   "metadata": {},
   "outputs": [
    {
     "name": "stdout",
     "output_type": "stream",
     "text": [
      "Found 992 images belonging to 2 classes.\n"
     ]
    }
   ],
   "source": [
    "test_generator=test_datagen.flow_from_directory(\n",
    "test_dir,\n",
    "target_size=(128,128),\n",
    "batch_size=20,\n",
    "class_mode='binary')"
   ]
  },
  {
   "cell_type": "code",
   "execution_count": 14,
   "id": "b89fc21c",
   "metadata": {},
   "outputs": [
    {
     "name": "stdout",
     "output_type": "stream",
     "text": [
      "50/50 [==============================] - 62s 1s/step - loss: 0.0235 - acc: 0.9929\n"
     ]
    },
    {
     "data": {
      "text/plain": [
       "[0.023461947217583656, 0.992943525314331]"
      ]
     },
     "execution_count": 14,
     "metadata": {},
     "output_type": "execute_result"
    }
   ],
   "source": [
    "model.evaluate(test_generator)"
   ]
  },
  {
   "cell_type": "code",
   "execution_count": 15,
   "id": "64562a75",
   "metadata": {},
   "outputs": [
    {
     "data": {
      "text/plain": [
       "{'loss': [0.2576751112937927,\n",
       "  0.0907592624425888,\n",
       "  0.04549086093902588,\n",
       "  0.05923352763056755,\n",
       "  0.052857864648103714,\n",
       "  0.050577033311128616,\n",
       "  0.03540916368365288,\n",
       "  0.04329632595181465,\n",
       "  0.021734323352575302,\n",
       "  0.03630886226892471],\n",
       " 'acc': [0.8859999775886536,\n",
       "  0.9660000205039978,\n",
       "  0.9850000143051147,\n",
       "  0.9850000143051147,\n",
       "  0.9829999804496765,\n",
       "  0.9829999804496765,\n",
       "  0.9869999885559082,\n",
       "  0.9869999885559082,\n",
       "  0.9919999837875366,\n",
       "  0.9890000224113464],\n",
       " 'val_loss': [0.05819088965654373,\n",
       "  0.017861049622297287,\n",
       "  0.013813218101859093,\n",
       "  0.005172243341803551,\n",
       "  0.0012367605231702328,\n",
       "  0.004499101545661688,\n",
       "  0.0056893485598266125,\n",
       "  0.0018989518284797668,\n",
       "  0.015750227496027946,\n",
       "  0.000838745036162436],\n",
       " 'val_acc': [0.9725000262260437,\n",
       "  0.9925000071525574,\n",
       "  0.9950000047683716,\n",
       "  0.9975000023841858,\n",
       "  1.0,\n",
       "  0.9975000023841858,\n",
       "  0.9975000023841858,\n",
       "  1.0,\n",
       "  0.9925000071525574,\n",
       "  1.0]}"
      ]
     },
     "execution_count": 15,
     "metadata": {},
     "output_type": "execute_result"
    }
   ],
   "source": [
    "model_history.history"
   ]
  },
  {
   "cell_type": "code",
   "execution_count": null,
   "id": "08b6feb2",
   "metadata": {},
   "outputs": [],
   "source": []
  },
  {
   "cell_type": "code",
   "execution_count": null,
   "id": "71f81086",
   "metadata": {},
   "outputs": [],
   "source": []
  },
  {
   "cell_type": "code",
   "execution_count": null,
   "id": "2461d685",
   "metadata": {},
   "outputs": [],
   "source": []
  },
  {
   "cell_type": "code",
   "execution_count": null,
   "id": "e5f1a26d",
   "metadata": {},
   "outputs": [],
   "source": []
  },
  {
   "cell_type": "code",
   "execution_count": null,
   "id": "ec0b9161",
   "metadata": {},
   "outputs": [],
   "source": []
  }
 ],
 "metadata": {
  "kernelspec": {
   "display_name": "Python 3 (ipykernel)",
   "language": "python",
   "name": "python3"
  },
  "language_info": {
   "codemirror_mode": {
    "name": "ipython",
    "version": 3
   },
   "file_extension": ".py",
   "mimetype": "text/x-python",
   "name": "python",
   "nbconvert_exporter": "python",
   "pygments_lexer": "ipython3",
   "version": "3.9.7"
  }
 },
 "nbformat": 4,
 "nbformat_minor": 5
}
