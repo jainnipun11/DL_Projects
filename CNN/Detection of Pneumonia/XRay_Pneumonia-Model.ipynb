{
 "cells": [
  {
   "cell_type": "code",
   "execution_count": 63,
   "id": "de8ac2ca",
   "metadata": {},
   "outputs": [],
   "source": [
    "import pandas as pd\n",
    "import numpy as np\n",
    "import matplotlib as mpl\n",
    "import matplotlib.pyplot as plt\n",
    "import os"
   ]
  },
  {
   "cell_type": "code",
   "execution_count": 64,
   "id": "e76ab8f2",
   "metadata": {},
   "outputs": [],
   "source": [
    "import tensorflow as tf\n",
    "from tensorflow import keras"
   ]
  },
  {
   "cell_type": "code",
   "execution_count": 65,
   "id": "8ccc8ac2",
   "metadata": {},
   "outputs": [],
   "source": [
    "train_dir=r'C:\\Users\\hp\\Downloads\\archive\\chest_xray\\train'\n",
    "valid_dir=r'C:\\Users\\hp\\Downloads\\archive\\chest_xray\\val'\n",
    "test_dir=r'C:\\Users\\hp\\Downloads\\archive\\chest_xray\\test'"
   ]
  },
  {
   "cell_type": "code",
   "execution_count": 66,
   "id": "1e3fe81b",
   "metadata": {},
   "outputs": [
    {
     "name": "stdout",
     "output_type": "stream",
     "text": [
      "Found 5216 images belonging to 2 classes.\n",
      "Found 1066 images belonging to 2 classes.\n"
     ]
    }
   ],
   "source": [
    "from tensorflow.keras.preprocessing.image import ImageDataGenerator\n",
    "train_datagen=ImageDataGenerator(rescale=1./255,\n",
    "                                height_shift_range=0.2,\n",
    "                                width_shift_range=0.2,\n",
    "                                rotation_range=40,\n",
    "                                shear_range=0.2,\n",
    "                                zoom_range=0.2,\n",
    "                                horizontal_flip=True)\n",
    "\n",
    "test_datagen=ImageDataGenerator(rescale=1./255)\n",
    "\n",
    "train_generator=train_datagen.flow_from_directory(\n",
    "train_dir,\n",
    "batch_size=20,\n",
    "target_size=(150,150),\n",
    "class_mode='binary')\n",
    "\n",
    "validation_generator=test_datagen.flow_from_directory(\n",
    "valid_dir,\n",
    "batch_size=20,\n",
    "target_size=(150,150),\n",
    "class_mode='binary')"
   ]
  },
  {
   "cell_type": "code",
   "execution_count": 67,
   "id": "b97a81df",
   "metadata": {},
   "outputs": [],
   "source": [
    "from tensorflow.keras import models\n",
    "from tensorflow.keras import layers"
   ]
  },
  {
   "cell_type": "code",
   "execution_count": 68,
   "id": "f7c271ab",
   "metadata": {},
   "outputs": [],
   "source": [
    "np.random.seed(42)\n",
    "tf.random.set_seed(42)"
   ]
  },
  {
   "cell_type": "code",
   "execution_count": 69,
   "id": "7bc764b6",
   "metadata": {},
   "outputs": [],
   "source": [
    "model=models.Sequential()\n",
    "model.add(layers.Conv2D(32,(3,3),activation='relu',input_shape=(150,150,3)))\n",
    "model.add(layers.MaxPooling2D(2,2))\n",
    "\n",
    "model.add(layers.Conv2D(64,(3,3),activation='relu',input_shape=(150,150,3)))\n",
    "model.add(layers.MaxPooling2D(2,2))\n",
    "\n",
    "model.add(layers.Conv2D(128,(3,3),activation='relu',input_shape=(150,150,3)))\n",
    "model.add(layers.MaxPooling2D(2,2))\n",
    "\n",
    "model.add(layers.Conv2D(256,(3,3),activation='relu',input_shape=(150,150,3)))\n",
    "model.add(layers.MaxPooling2D(2,2))\n",
    "\n",
    "model.add(layers.Flatten())\n",
    "model.add(layers.Dense(512,activation='relu'))\n",
    "model.add(layers.Dense(1,activation='sigmoid'))"
   ]
  },
  {
   "cell_type": "code",
   "execution_count": 70,
   "id": "1d59d328",
   "metadata": {},
   "outputs": [],
   "source": [
    "from tensorflow.keras import optimizers\n",
    "model.compile(loss='binary_crossentropy',\n",
    "             optimizer=optimizers.RMSprop(2e-5),\n",
    "             metrics=['acc'])"
   ]
  },
  {
   "cell_type": "code",
   "execution_count": 71,
   "id": "891b70ac",
   "metadata": {},
   "outputs": [
    {
     "name": "stdout",
     "output_type": "stream",
     "text": [
      "Model: \"sequential_4\"\n",
      "_________________________________________________________________\n",
      " Layer (type)                Output Shape              Param #   \n",
      "=================================================================\n",
      " conv2d_16 (Conv2D)          (None, 148, 148, 32)      896       \n",
      "                                                                 \n",
      " max_pooling2d_16 (MaxPoolin  (None, 74, 74, 32)       0         \n",
      " g2D)                                                            \n",
      "                                                                 \n",
      " conv2d_17 (Conv2D)          (None, 72, 72, 64)        18496     \n",
      "                                                                 \n",
      " max_pooling2d_17 (MaxPoolin  (None, 36, 36, 64)       0         \n",
      " g2D)                                                            \n",
      "                                                                 \n",
      " conv2d_18 (Conv2D)          (None, 34, 34, 128)       73856     \n",
      "                                                                 \n",
      " max_pooling2d_18 (MaxPoolin  (None, 17, 17, 128)      0         \n",
      " g2D)                                                            \n",
      "                                                                 \n",
      " conv2d_19 (Conv2D)          (None, 15, 15, 256)       295168    \n",
      "                                                                 \n",
      " max_pooling2d_19 (MaxPoolin  (None, 7, 7, 256)        0         \n",
      " g2D)                                                            \n",
      "                                                                 \n",
      " flatten_4 (Flatten)         (None, 12544)             0         \n",
      "                                                                 \n",
      " dense_8 (Dense)             (None, 512)               6423040   \n",
      "                                                                 \n",
      " dense_9 (Dense)             (None, 1)                 513       \n",
      "                                                                 \n",
      "=================================================================\n",
      "Total params: 6,811,969\n",
      "Trainable params: 6,811,969\n",
      "Non-trainable params: 0\n",
      "_________________________________________________________________\n"
     ]
    }
   ],
   "source": [
    "model.summary()"
   ]
  },
  {
   "cell_type": "code",
   "execution_count": 72,
   "id": "2ab26a92",
   "metadata": {},
   "outputs": [],
   "source": [
    "checkpoint_cb=keras.callbacks.ModelCheckpoint(\"CNN4-{epoch:02d}.h5\")"
   ]
  },
  {
   "cell_type": "code",
   "execution_count": 79,
   "id": "5cd26cfa",
   "metadata": {},
   "outputs": [
    {
     "name": "stdout",
     "output_type": "stream",
     "text": [
      "Epoch 1/20\n",
      "20/20 [==============================] - 11s 566ms/step - loss: 0.3551 - acc: 0.8325 - val_loss: 0.3229 - val_acc: 0.8725\n",
      "Epoch 2/20\n",
      "20/20 [==============================] - 12s 590ms/step - loss: 0.3609 - acc: 0.8325 - val_loss: 0.3194 - val_acc: 0.8775\n",
      "Epoch 3/20\n",
      "20/20 [==============================] - 12s 597ms/step - loss: 0.3450 - acc: 0.8450 - val_loss: 0.3246 - val_acc: 0.8725\n",
      "Epoch 4/20\n",
      "20/20 [==============================] - 12s 607ms/step - loss: 0.3547 - acc: 0.8475 - val_loss: 0.3171 - val_acc: 0.8825\n",
      "Epoch 5/20\n",
      "20/20 [==============================] - 13s 658ms/step - loss: 0.3474 - acc: 0.8400 - val_loss: 0.3013 - val_acc: 0.8925\n",
      "Epoch 6/20\n",
      "20/20 [==============================] - 13s 673ms/step - loss: 0.3500 - acc: 0.8500 - val_loss: 0.3089 - val_acc: 0.8750\n",
      "Epoch 7/20\n",
      "20/20 [==============================] - 13s 672ms/step - loss: 0.3484 - acc: 0.8550 - val_loss: 0.2975 - val_acc: 0.8975\n",
      "Epoch 8/20\n",
      "20/20 [==============================] - 13s 661ms/step - loss: 0.3182 - acc: 0.8425 - val_loss: 0.3270 - val_acc: 0.8650\n",
      "Epoch 9/20\n",
      "20/20 [==============================] - 13s 680ms/step - loss: 0.3728 - acc: 0.8200 - val_loss: 0.3859 - val_acc: 0.8400\n",
      "Epoch 10/20\n",
      "20/20 [==============================] - 14s 689ms/step - loss: 0.3711 - acc: 0.8300 - val_loss: 0.4841 - val_acc: 0.7550\n",
      "Epoch 11/20\n",
      "20/20 [==============================] - 14s 699ms/step - loss: 0.3214 - acc: 0.8550 - val_loss: 0.3122 - val_acc: 0.8925\n",
      "Epoch 12/20\n",
      "20/20 [==============================] - 13s 681ms/step - loss: 0.3726 - acc: 0.8300 - val_loss: 0.4388 - val_acc: 0.7950\n",
      "Epoch 13/20\n",
      "20/20 [==============================] - 13s 675ms/step - loss: 0.3175 - acc: 0.8675 - val_loss: 0.3480 - val_acc: 0.8650\n",
      "Epoch 14/20\n",
      "20/20 [==============================] - 14s 708ms/step - loss: 0.3430 - acc: 0.8425 - val_loss: 0.3171 - val_acc: 0.8700\n",
      "Epoch 15/20\n",
      "20/20 [==============================] - 15s 739ms/step - loss: 0.3207 - acc: 0.8650 - val_loss: 0.3248 - val_acc: 0.8725\n",
      "Epoch 16/20\n",
      "20/20 [==============================] - 14s 712ms/step - loss: 0.3750 - acc: 0.8200 - val_loss: 0.2527 - val_acc: 0.9250\n",
      "Epoch 17/20\n",
      "20/20 [==============================] - 14s 696ms/step - loss: 0.3451 - acc: 0.8450 - val_loss: 0.3700 - val_acc: 0.8325\n",
      "Epoch 18/20\n",
      "20/20 [==============================] - 14s 688ms/step - loss: 0.3285 - acc: 0.8475 - val_loss: 0.3251 - val_acc: 0.8500\n",
      "Epoch 19/20\n",
      "20/20 [==============================] - 14s 687ms/step - loss: 0.3153 - acc: 0.8575 - val_loss: 0.3083 - val_acc: 0.8775\n",
      "Epoch 20/20\n",
      "20/20 [==============================] - 14s 697ms/step - loss: 0.3166 - acc: 0.8525 - val_loss: 0.2871 - val_acc: 0.8975\n"
     ]
    }
   ],
   "source": [
    "model_history=model.fit(\n",
    "train_generator,\n",
    "steps_per_epoch=20,\n",
    "epochs=20,\n",
    "validation_data=validation_generator,\n",
    "validation_steps=20)"
   ]
  },
  {
   "cell_type": "code",
   "execution_count": 74,
   "id": "2fda97f1",
   "metadata": {},
   "outputs": [
    {
     "data": {
      "text/plain": [
       "{'loss': [0.5905733108520508,\n",
       "  0.5804637670516968,\n",
       "  0.5494528412818909,\n",
       "  0.5645409822463989,\n",
       "  0.5352339148521423,\n",
       "  0.5142306089401245,\n",
       "  0.47850972414016724,\n",
       "  0.4740697741508484,\n",
       "  0.45400965213775635,\n",
       "  0.44747576117515564,\n",
       "  0.4378783702850342,\n",
       "  0.4233923554420471,\n",
       "  0.4084469676017761,\n",
       "  0.3969781696796417,\n",
       "  0.42538508772850037,\n",
       "  0.39257505536079407,\n",
       "  0.4034402370452881,\n",
       "  0.3552638292312622,\n",
       "  0.3746567368507385,\n",
       "  0.3615427613258362],\n",
       " 'acc': [0.7379999756813049,\n",
       "  0.7400000095367432,\n",
       "  0.7570000290870667,\n",
       "  0.7300000190734863,\n",
       "  0.7419999837875366,\n",
       "  0.7559999823570251,\n",
       "  0.7699999809265137,\n",
       "  0.7630000114440918,\n",
       "  0.7829999923706055,\n",
       "  0.7881526350975037,\n",
       "  0.7929999828338623,\n",
       "  0.781124472618103,\n",
       "  0.8182730674743652,\n",
       "  0.8090000152587891,\n",
       "  0.8019999861717224,\n",
       "  0.8109999895095825,\n",
       "  0.8080000281333923,\n",
       "  0.843999981880188,\n",
       "  0.8309999704360962,\n",
       "  0.8313252925872803],\n",
       " 'val_loss': [0.7408350110054016,\n",
       "  0.7039255499839783,\n",
       "  0.7312376499176025,\n",
       "  0.6420139074325562,\n",
       "  0.6045567989349365,\n",
       "  0.5349236726760864,\n",
       "  0.6443187594413757,\n",
       "  0.49588894844055176,\n",
       "  0.45255282521247864,\n",
       "  0.46204036474227905,\n",
       "  0.38559505343437195,\n",
       "  0.4075804650783539,\n",
       "  0.38297584652900696,\n",
       "  0.3834236264228821,\n",
       "  0.37042197585105896,\n",
       "  0.36926060914993286,\n",
       "  0.46599510312080383,\n",
       "  0.3246315121650696,\n",
       "  0.3342433571815491,\n",
       "  0.3211343288421631],\n",
       " 'val_acc': [0.6000000238418579,\n",
       "  0.5899999737739563,\n",
       "  0.5674999952316284,\n",
       "  0.6000000238418579,\n",
       "  0.8100000023841858,\n",
       "  0.7149999737739563,\n",
       "  0.5924999713897705,\n",
       "  0.6924999952316284,\n",
       "  0.8399999737739563,\n",
       "  0.7649999856948853,\n",
       "  0.875,\n",
       "  0.8500000238418579,\n",
       "  0.8450000286102295,\n",
       "  0.8575000166893005,\n",
       "  0.8899999856948853,\n",
       "  0.8675000071525574,\n",
       "  0.7875000238418579,\n",
       "  0.8650000095367432,\n",
       "  0.887499988079071,\n",
       "  0.8824999928474426]}"
      ]
     },
     "execution_count": 74,
     "metadata": {},
     "output_type": "execute_result"
    }
   ],
   "source": [
    "model_history.history"
   ]
  },
  {
   "cell_type": "code",
   "execution_count": 80,
   "id": "205d9d70",
   "metadata": {},
   "outputs": [
    {
     "data": {
      "image/png": "[encoded data removed]",
      "text/plain": [
       "<Figure size 576x360 with 1 Axes>"
      ]
     },
     "metadata": {
      "needs_background": "light"
     },
     "output_type": "display_data"
    }
   ],
   "source": [
    "pd.DataFrame(model_history.history).plot(figsize=(8,5))\n",
    "plt.grid(True)\n",
    "plt.gca().set_ylim(0,1)  #To set y-axis between 0 and 1\n",
    "plt.show()"
   ]
  },
  {
   "cell_type": "code",
   "execution_count": null,
   "id": "6a6b602f",
   "metadata": {},
   "outputs": [],
   "source": []
  },
  {
   "cell_type": "code",
   "execution_count": 81,
   "id": "4d37dd9b",
   "metadata": {},
   "outputs": [],
   "source": [
    "model.save('CNN1.h5')"
   ]
  },
  {
   "cell_type": "code",
   "execution_count": null,
   "id": "2b51bf22",
   "metadata": {},
   "outputs": [],
   "source": []
  },
  {
   "cell_type": "code",
   "execution_count": 82,
   "id": "ae312432",
   "metadata": {},
   "outputs": [
    {
     "name": "stdout",
     "output_type": "stream",
     "text": [
      "Found 624 images belonging to 2 classes.\n"
     ]
    }
   ],
   "source": [
    "test_generator=test_datagen.flow_from_directory(\n",
    "test_dir,\n",
    "target_size=(150,150),\n",
    "batch_size=20,\n",
    "class_mode='binary')"
   ]
  },
  {
   "cell_type": "code",
   "execution_count": 83,
   "id": "30f09378",
   "metadata": {},
   "outputs": [
    {
     "name": "stdout",
     "output_type": "stream",
     "text": [
      "31/50 [=================>............] - ETA: 2s - loss: 0.3918 - acc: 0.8403WARNING:tensorflow:Your input ran out of data; interrupting training. Make sure that your dataset or generator can generate at least `steps_per_epoch * epochs` batches (in this case, 50 batches). You may need to use the repeat() function when building your dataset.\n",
      "50/50 [==============================] - 5s 95ms/step - loss: 0.3944 - acc: 0.8381\n"
     ]
    },
    {
     "data": {
      "text/plain": [
       "[0.3944360613822937, 0.8381410241127014]"
      ]
     },
     "execution_count": 83,
     "metadata": {},
     "output_type": "execute_result"
    }
   ],
   "source": [
    "model.evaluate(test_generator,steps=50)"
   ]
  },
  {
   "cell_type": "code",
   "execution_count": null,
   "id": "2f8ddd14",
   "metadata": {},
   "outputs": [],
   "source": []
  },
  {
   "cell_type": "code",
   "execution_count": null,
   "id": "bf6ccee0",
   "metadata": {},
   "outputs": [],
   "source": []
  },
  {
   "cell_type": "code",
   "execution_count": null,
   "id": "93022a59",
   "metadata": {},
   "outputs": [],
   "source": []
  },
  {
   "cell_type": "code",
   "execution_count": null,
   "id": "77c0a7a9",
   "metadata": {},
   "outputs": [],
   "source": []
  },
  {
   "cell_type": "code",
   "execution_count": null,
   "id": "3d39ba9b",
   "metadata": {},
   "outputs": [],
   "source": []
  },
  {
   "cell_type": "code",
   "execution_count": null,
   "id": "58ccce22",
   "metadata": {},
   "outputs": [],
   "source": []
  },
  {
   "cell_type": "code",
   "execution_count": null,
   "id": "37e2465c",
   "metadata": {},
   "outputs": [],
   "source": []
  },
  {
   "cell_type": "code",
   "execution_count": null,
   "id": "0039626f",
   "metadata": {},
   "outputs": [],
   "source": []
  },
  {
   "cell_type": "code",
   "execution_count": null,
   "id": "65caeb96",
   "metadata": {},
   "outputs": [],
   "source": []
  },
  {
   "cell_type": "code",
   "execution_count": null,
   "id": "a4158b9a",
   "metadata": {},
   "outputs": [],
   "source": []
  },
  {
   "cell_type": "code",
   "execution_count": null,
   "id": "f42de7f4",
   "metadata": {},
   "outputs": [],
   "source": []
  },
  {
   "cell_type": "code",
   "execution_count": null,
   "id": "64f198f4",
   "metadata": {},
   "outputs": [],
   "source": []
  },
  {
   "cell_type": "code",
   "execution_count": null,
   "id": "11d357ba",
   "metadata": {},
   "outputs": [],
   "source": []
  },
  {
   "cell_type": "code",
   "execution_count": null,
   "id": "8f457274",
   "metadata": {},
   "outputs": [],
   "source": []
  },
  {
   "cell_type": "code",
   "execution_count": null,
   "id": "43d7b16f",
   "metadata": {},
   "outputs": [],
   "source": []
  },
  {
   "cell_type": "code",
   "execution_count": null,
   "id": "2e38819b",
   "metadata": {},
   "outputs": [],
   "source": []
  },
  {
   "cell_type": "code",
   "execution_count": null,
   "id": "678dbe62",
   "metadata": {},
   "outputs": [],
   "source": []
  },
  {
   "cell_type": "code",
   "execution_count": null,
   "id": "ea6589b0",
   "metadata": {},
   "outputs": [],
   "source": []
  }
 ],
 "metadata": {
  "kernelspec": {
   "display_name": "Python 3 (ipykernel)",
   "language": "python",
   "name": "python3"
  },
  "language_info": {
   "codemirror_mode": {
    "name": "ipython",
    "version": 3
   },
   "file_extension": ".py",
   "mimetype": "text/x-python",
   "name": "python",
   "nbconvert_exporter": "python",
   "pygments_lexer": "ipython3",
   "version": "3.9.7"
  }
 },
 "nbformat": 4,
 "nbformat_minor": 5
}
